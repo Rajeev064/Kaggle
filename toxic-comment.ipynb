{
 "cells": [
  {
   "cell_type": "code",
   "execution_count": 1,
   "id": "regular-accessory",
   "metadata": {
    "_cell_guid": "b1076dfc-b9ad-4769-8c92-a6c4dae69d19",
    "_uuid": "8f2839f25d086af736a60e9eeb907d3b93b6e0e5",
    "execution": {
     "iopub.execute_input": "2021-07-04T14:20:25.497943Z",
     "iopub.status.busy": "2021-07-04T14:20:25.495993Z",
     "iopub.status.idle": "2021-07-04T14:20:25.500892Z",
     "shell.execute_reply": "2021-07-04T14:20:25.501483Z",
     "shell.execute_reply.started": "2021-07-04T13:54:06.581360Z"
    },
    "papermill": {
     "duration": 0.046703,
     "end_time": "2021-07-04T14:20:25.501750",
     "exception": false,
     "start_time": "2021-07-04T14:20:25.455047",
     "status": "completed"
    },
    "tags": []
   },
   "outputs": [
    {
     "name": "stdout",
     "output_type": "stream",
     "text": [
      "/kaggle/input/jigsaw-toxic-comment-classification-challenge/train.csv.zip\n",
      "/kaggle/input/jigsaw-toxic-comment-classification-challenge/sample_submission.csv.zip\n",
      "/kaggle/input/jigsaw-toxic-comment-classification-challenge/test_labels.csv.zip\n",
      "/kaggle/input/jigsaw-toxic-comment-classification-challenge/test.csv.zip\n"
     ]
    }
   ],
   "source": [
    "# This Python 3 environment comes with many helpful analytics libraries installed\n",
    "# It is defined by the kaggle/python Docker image: https://github.com/kaggle/docker-python\n",
    "# For example, here's several helpful packages to load\n",
    "\n",
    "import numpy as np # linear algebra\n",
    "import pandas as pd # data processing, CSV file I/O (e.g. pd.read_csv)\n",
    "\n",
    "# Input data files are available in the read-only \"../input/\" directory\n",
    "# For example, running this (by clicking run or pressing Shift+Enter) will list all files under the input directory\n",
    "\n",
    "import os\n",
    "for dirname, _, filenames in os.walk('/kaggle/input'):\n",
    "    for filename in filenames:\n",
    "        print(os.path.join(dirname, filename))\n",
    "\n",
    "# You can write up to 20GB to the current directory (/kaggle/working/) that gets preserved as output when you create a version using \"Save & Run All\" \n",
    "# You can also write temporary files to /kaggle/temp/, but they won't be saved outside of the current session"
   ]
  },
  {
   "cell_type": "code",
   "execution_count": 2,
   "id": "lyric-thomas",
   "metadata": {
    "execution": {
     "iopub.execute_input": "2021-07-04T14:20:25.568041Z",
     "iopub.status.busy": "2021-07-04T14:20:25.567543Z",
     "iopub.status.idle": "2021-07-04T14:20:26.214150Z",
     "shell.execute_reply": "2021-07-04T14:20:26.213254Z",
     "shell.execute_reply.started": "2021-07-04T13:54:06.596476Z"
    },
    "papermill": {
     "duration": 0.680344,
     "end_time": "2021-07-04T14:20:26.214292",
     "exception": false,
     "start_time": "2021-07-04T14:20:25.533948",
     "status": "completed"
    },
    "tags": []
   },
   "outputs": [],
   "source": [
    "import pandas as pd\n",
    "import numpy as np\n",
    "import matplotlib.pyplot as plt\n",
    "import seaborn as sns"
   ]
  },
  {
   "cell_type": "code",
   "execution_count": 3,
   "id": "mental-technical",
   "metadata": {
    "execution": {
     "iopub.execute_input": "2021-07-04T14:20:26.281323Z",
     "iopub.status.busy": "2021-07-04T14:20:26.280801Z",
     "iopub.status.idle": "2021-07-04T14:20:26.376558Z",
     "shell.execute_reply": "2021-07-04T14:20:26.376015Z",
     "shell.execute_reply.started": "2021-07-04T13:54:07.243128Z"
    },
    "papermill": {
     "duration": 0.130537,
     "end_time": "2021-07-04T14:20:26.376731",
     "exception": false,
     "start_time": "2021-07-04T14:20:26.246194",
     "status": "completed"
    },
    "tags": []
   },
   "outputs": [],
   "source": [
    "import zipfile\n",
    "\n",
    "z= zipfile.ZipFile('../input/jigsaw-toxic-comment-classification-challenge/sample_submission.csv.zip')\n",
    "z.extractall()"
   ]
  },
  {
   "cell_type": "code",
   "execution_count": 4,
   "id": "advisory-duration",
   "metadata": {
    "execution": {
     "iopub.execute_input": "2021-07-04T14:20:26.441790Z",
     "iopub.status.busy": "2021-07-04T14:20:26.441237Z",
     "iopub.status.idle": "2021-07-04T14:20:29.994962Z",
     "shell.execute_reply": "2021-07-04T14:20:29.994041Z",
     "shell.execute_reply.started": "2021-07-04T13:54:07.323113Z"
    },
    "papermill": {
     "duration": 3.58759,
     "end_time": "2021-07-04T14:20:29.995102",
     "exception": false,
     "start_time": "2021-07-04T14:20:26.407512",
     "status": "completed"
    },
    "tags": []
   },
   "outputs": [],
   "source": [
    "train = pd.read_csv('../input/jigsaw-toxic-comment-classification-challenge/train.csv.zip')\n",
    "test = pd.read_csv('../input/jigsaw-toxic-comment-classification-challenge/test.csv.zip')"
   ]
  },
  {
   "cell_type": "code",
   "execution_count": 5,
   "id": "uniform-chancellor",
   "metadata": {
    "execution": {
     "iopub.execute_input": "2021-07-04T14:20:30.080795Z",
     "iopub.status.busy": "2021-07-04T14:20:30.079953Z",
     "iopub.status.idle": "2021-07-04T14:20:30.082243Z",
     "shell.execute_reply": "2021-07-04T14:20:30.082964Z",
     "shell.execute_reply.started": "2021-07-04T13:54:10.360897Z"
    },
    "papermill": {
     "duration": 0.056478,
     "end_time": "2021-07-04T14:20:30.083153",
     "exception": false,
     "start_time": "2021-07-04T14:20:30.026675",
     "status": "completed"
    },
    "tags": []
   },
   "outputs": [],
   "source": [
    "cols_target = ['obscene','insult','toxic','severe_toxic','identity_hate','threat']"
   ]
  },
  {
   "cell_type": "code",
   "execution_count": 6,
   "id": "continuous-destiny",
   "metadata": {
    "execution": {
     "iopub.execute_input": "2021-07-04T14:20:30.195927Z",
     "iopub.status.busy": "2021-07-04T14:20:30.195150Z",
     "iopub.status.idle": "2021-07-04T14:20:30.231122Z",
     "shell.execute_reply": "2021-07-04T14:20:30.232139Z",
     "shell.execute_reply.started": "2021-07-04T13:54:10.367688Z"
    },
    "papermill": {
     "duration": 0.0939,
     "end_time": "2021-07-04T14:20:30.232350",
     "exception": false,
     "start_time": "2021-07-04T14:20:30.138450",
     "status": "completed"
    },
    "tags": []
   },
   "outputs": [
    {
     "data": {
      "text/html": [
       "<div>\n",
       "<style scoped>\n",
       "    .dataframe tbody tr th:only-of-type {\n",
       "        vertical-align: middle;\n",
       "    }\n",
       "\n",
       "    .dataframe tbody tr th {\n",
       "        vertical-align: top;\n",
       "    }\n",
       "\n",
       "    .dataframe thead th {\n",
       "        text-align: right;\n",
       "    }\n",
       "</style>\n",
       "<table border=\"1\" class=\"dataframe\">\n",
       "  <thead>\n",
       "    <tr style=\"text-align: right;\">\n",
       "      <th></th>\n",
       "      <th>id</th>\n",
       "      <th>comment_text</th>\n",
       "      <th>toxic</th>\n",
       "      <th>severe_toxic</th>\n",
       "      <th>obscene</th>\n",
       "      <th>threat</th>\n",
       "      <th>insult</th>\n",
       "      <th>identity_hate</th>\n",
       "    </tr>\n",
       "  </thead>\n",
       "  <tbody>\n",
       "    <tr>\n",
       "      <th>0</th>\n",
       "      <td>0000997932d777bf</td>\n",
       "      <td>Explanation\\nWhy the edits made under my usern...</td>\n",
       "      <td>0</td>\n",
       "      <td>0</td>\n",
       "      <td>0</td>\n",
       "      <td>0</td>\n",
       "      <td>0</td>\n",
       "      <td>0</td>\n",
       "    </tr>\n",
       "    <tr>\n",
       "      <th>1</th>\n",
       "      <td>000103f0d9cfb60f</td>\n",
       "      <td>D'aww! He matches this background colour I'm s...</td>\n",
       "      <td>0</td>\n",
       "      <td>0</td>\n",
       "      <td>0</td>\n",
       "      <td>0</td>\n",
       "      <td>0</td>\n",
       "      <td>0</td>\n",
       "    </tr>\n",
       "    <tr>\n",
       "      <th>2</th>\n",
       "      <td>000113f07ec002fd</td>\n",
       "      <td>Hey man, I'm really not trying to edit war. It...</td>\n",
       "      <td>0</td>\n",
       "      <td>0</td>\n",
       "      <td>0</td>\n",
       "      <td>0</td>\n",
       "      <td>0</td>\n",
       "      <td>0</td>\n",
       "    </tr>\n",
       "    <tr>\n",
       "      <th>3</th>\n",
       "      <td>0001b41b1c6bb37e</td>\n",
       "      <td>\"\\nMore\\nI can't make any real suggestions on ...</td>\n",
       "      <td>0</td>\n",
       "      <td>0</td>\n",
       "      <td>0</td>\n",
       "      <td>0</td>\n",
       "      <td>0</td>\n",
       "      <td>0</td>\n",
       "    </tr>\n",
       "    <tr>\n",
       "      <th>4</th>\n",
       "      <td>0001d958c54c6e35</td>\n",
       "      <td>You, sir, are my hero. Any chance you remember...</td>\n",
       "      <td>0</td>\n",
       "      <td>0</td>\n",
       "      <td>0</td>\n",
       "      <td>0</td>\n",
       "      <td>0</td>\n",
       "      <td>0</td>\n",
       "    </tr>\n",
       "  </tbody>\n",
       "</table>\n",
       "</div>"
      ],
      "text/plain": [
       "                 id                                       comment_text  toxic  \\\n",
       "0  0000997932d777bf  Explanation\\nWhy the edits made under my usern...      0   \n",
       "1  000103f0d9cfb60f  D'aww! He matches this background colour I'm s...      0   \n",
       "2  000113f07ec002fd  Hey man, I'm really not trying to edit war. It...      0   \n",
       "3  0001b41b1c6bb37e  \"\\nMore\\nI can't make any real suggestions on ...      0   \n",
       "4  0001d958c54c6e35  You, sir, are my hero. Any chance you remember...      0   \n",
       "\n",
       "   severe_toxic  obscene  threat  insult  identity_hate  \n",
       "0             0        0       0       0              0  \n",
       "1             0        0       0       0              0  \n",
       "2             0        0       0       0              0  \n",
       "3             0        0       0       0              0  \n",
       "4             0        0       0       0              0  "
      ]
     },
     "execution_count": 6,
     "metadata": {},
     "output_type": "execute_result"
    }
   ],
   "source": [
    "train.head()"
   ]
  },
  {
   "cell_type": "code",
   "execution_count": 7,
   "id": "elegant-obligation",
   "metadata": {
    "execution": {
     "iopub.execute_input": "2021-07-04T14:20:30.356323Z",
     "iopub.status.busy": "2021-07-04T14:20:30.355566Z",
     "iopub.status.idle": "2021-07-04T14:20:30.411016Z",
     "shell.execute_reply": "2021-07-04T14:20:30.411840Z",
     "shell.execute_reply.started": "2021-07-04T13:54:10.394599Z"
    },
    "papermill": {
     "duration": 0.11705,
     "end_time": "2021-07-04T14:20:30.412024",
     "exception": false,
     "start_time": "2021-07-04T14:20:30.294974",
     "status": "completed"
    },
    "tags": []
   },
   "outputs": [
    {
     "data": {
      "text/plain": [
       "id               0\n",
       "comment_text     0\n",
       "toxic            0\n",
       "severe_toxic     0\n",
       "obscene          0\n",
       "threat           0\n",
       "insult           0\n",
       "identity_hate    0\n",
       "dtype: int64" 
      ]
     },
     "execution_count": 7,
     "metadata": {},
     "output_type": "execute_result"
    }
   ],
   "source": [
    "train.isnull().sum()"
   ]
  },
  {
   "cell_type": "code",
   "execution_count": 8,
   "id": "hidden-harris",
   "metadata": {
    "execution": {
     "iopub.execute_input": "2021-07-04T14:20:30.532831Z",
     "iopub.status.busy": "2021-07-04T14:20:30.524497Z",
     "iopub.status.idle": "2021-07-04T14:20:30.585752Z",
     "shell.execute_reply": "2021-07-04T14:20:30.585141Z",
     "shell.execute_reply.started": "2021-07-04T13:54:10.439902Z"
    },
    "papermill": {
     "duration": 0.118994,
     "end_time": "2021-07-04T14:20:30.585881",
     "exception": false,
     "start_time": "2021-07-04T14:20:30.466887",
     "status": "completed"
    },
    "tags": []
   },
   "outputs": [
    {
     "data": {
      "text/html": [
       "<div>\n",
       "<style scoped>\n",
       "    .dataframe tbody tr th:only-of-type {\n",
       "        vertical-align: middle;\n",
       "    }\n",
       "\n",
       "    .dataframe tbody tr th {\n",
       "        vertical-align: top;\n",
       "    }\n",
       "\n",
       "    .dataframe thead th {\n",
       "        text-align: right;\n",
       "    }\n",
       "</style>\n",
       "<table border=\"1\" class=\"dataframe\">\n",
       "  <thead>\n",
       "    <tr style=\"text-align: right;\">\n",
       "      <th></th>\n",
       "      <th>toxic</th>\n",
       "      <th>severe_toxic</th>\n",
       "      <th>obscene</th>\n",
       "      <th>threat</th>\n",
       "      <th>insult</th>\n",
       "      <th>identity_hate</th>\n",
       "    </tr>\n",
       "  </thead>\n",
       "  <tbody>\n",
       "    <tr>\n",
       "      <th>count</th>\n",
       "      <td>159571.000000</td>\n",
       "      <td>159571.000000</td>\n",
       "      <td>159571.000000</td>\n",
       "      <td>159571.000000</td>\n",
       "      <td>159571.000000</td>\n",
       "      <td>159571.000000</td>\n",
       "    </tr>\n",
       "    <tr>\n",
       "      <th>mean</th>\n",
       "      <td>0.095844</td>\n",
       "      <td>0.009996</td>\n",
       "      <td>0.052948</td>\n",
       "      <td>0.002996</td>\n",
       "      <td>0.049364</td>\n",
       "      <td>0.008805</td>\n",
       "    </tr>\n",
       "    <tr>\n",
       "      <th>std</th>\n",
       "      <td>0.294379</td>\n",
       "      <td>0.099477</td>\n",
       "      <td>0.223931</td>\n",
       "      <td>0.054650</td>\n",
       "      <td>0.216627</td>\n",
       "      <td>0.093420</td>\n",
       "    </tr>\n",
       "    <tr>\n",
       "      <th>min</th>\n",
       "      <td>0.000000</td>\n",
       "      <td>0.000000</td>\n",
       "      <td>0.000000</td>\n",
       "      <td>0.000000</td>\n",
       "      <td>0.000000</td>\n",
       "      <td>0.000000</td>\n",
       "    </tr>\n",
       "    <tr>\n",
       "      <th>25%</th>\n",
       "      <td>0.000000</td>\n",
       "      <td>0.000000</td>\n",
       "      <td>0.000000</td>\n",
       "      <td>0.000000</td>\n",
       "      <td>0.000000</td>\n",
       "      <td>0.000000</td>\n",
       "    </tr>\n",
       "    <tr>\n",
       "      <th>50%</th>\n",
       "      <td>0.000000</td>\n",
       "      <td>0.000000</td>\n",
       "      <td>0.000000</td>\n",
       "      <td>0.000000</td>\n",
       "      <td>0.000000</td>\n",
       "      <td>0.000000</td>\n",
       "    </tr>\n",
       "    <tr>\n",
       "      <th>75%</th>\n",
       "      <td>0.000000</td>\n",
       "      <td>0.000000</td>\n",
       "      <td>0.000000</td>\n",
       "      <td>0.000000</td>\n",
       "      <td>0.000000</td>\n",
       "      <td>0.000000</td>\n",
       "    </tr>\n",
       "    <tr>\n",
       "      <th>max</th>\n",
       "      <td>1.000000</td>\n",
       "      <td>1.000000</td>\n",
       "      <td>1.000000</td>\n",
       "      <td>1.000000</td>\n",
       "      <td>1.000000</td>\n",
       "      <td>1.000000</td>\n",
       "    </tr>\n",
       "  </tbody>\n",
       "</table>\n",
       "</div>"
      ],
      "text/plain": [
       "               toxic   severe_toxic        obscene         threat  \\\n",
       "count  159571.000000  159571.000000  159571.000000  159571.000000   \n",
       "mean        0.095844       0.009996       0.052948       0.002996   \n",
       "std         0.294379       0.099477       0.223931       0.054650   \n",
       "min         0.000000       0.000000       0.000000       0.000000   \n",
       "25%         0.000000       0.000000       0.000000       0.000000   \n",
       "50%         0.000000       0.000000       0.000000       0.000000   \n",
       "75%         0.000000       0.000000       0.000000       0.000000   \n",
       "max         1.000000       1.000000       1.000000       1.000000   \n",
       "\n",
       "              insult  identity_hate  \n",
       "count  159571.000000  159571.000000  \n",
       "mean        0.049364       0.008805  \n",
       "std         0.216627       0.093420  \n",
       "min         0.000000       0.000000  \n",
       "25%         0.000000       0.000000  \n",
       "50%         0.000000       0.000000  \n",
       "75%         0.000000       0.000000  \n",
       "max         1.000000       1.000000  "
      ]
     },
     "execution_count": 8,
     "metadata": {},
     "output_type": "execute_result"
    }
   ],
   "source": [
    "train.describe()"
   ]
  },
  {
   "cell_type": "code",
   "execution_count": 9,
   "id": "handled-building",
   "metadata": {
    "execution": {
     "iopub.execute_input": "2021-07-04T14:20:30.661373Z",
     "iopub.status.busy": "2021-07-04T14:20:30.660654Z",
     "iopub.status.idle": "2021-07-04T14:20:30.663347Z",
     "shell.execute_reply": "2021-07-04T14:20:30.662962Z",
     "shell.execute_reply.started": "2021-07-04T13:54:10.490643Z"
    },
    "papermill": {
     "duration": 0.044796,
     "end_time": "2021-07-04T14:20:30.663472",
     "exception": false,
     "start_time": "2021-07-04T14:20:30.618676",
     "status": "completed"
    },
    "tags": []
   },
   "outputs": [],
   "source": [
    "#we dont have to use id here\n",
    "train.drop(['id'],axis=1,inplace=True)"
   ]
  },
  {
   "cell_type": "code",
   "execution_count": 10,
   "id": "configured-coaching",
   "metadata": {
    "execution": {
     "iopub.execute_input": "2021-07-04T14:20:30.735536Z",
     "iopub.status.busy": "2021-07-04T14:20:30.734726Z",
     "iopub.status.idle": "2021-07-04T14:20:30.738317Z",
     "shell.execute_reply": "2021-07-04T14:20:30.737939Z",
     "shell.execute_reply.started": "2021-07-04T13:54:10.504446Z"
    },
    "papermill": {
     "duration": 0.043184,
     "end_time": "2021-07-04T14:20:30.738451",
     "exception": false,
     "start_time": "2021-07-04T14:20:30.695267",
     "status": "completed"
    },
    "tags": []
   },
   "outputs": [
    {
     "data": {
      "text/html": [
       "<div>\n",
       "<style scoped>\n",
       "    .dataframe tbody tr th:only-of-type {\n",
       "        vertical-align: middle;\n",
       "    }\n",
       "\n",
       "    .dataframe tbody tr th {\n",
       "        vertical-align: top;\n",
       "    }\n",
       "\n",
       "    .dataframe thead th {\n",
       "        text-align: right;\n",
       "    }\n",
       "</style>\n",
       "<table border=\"1\" class=\"dataframe\">\n",
       "  <thead>\n",
       "    <tr style=\"text-align: right;\">\n",
       "      <th></th>\n",
       "      <th>comment_text</th>\n",
       "      <th>toxic</th>\n",
       "      <th>severe_toxic</th>\n",
       "      <th>obscene</th>\n",
       "      <th>threat</th>\n",
       "      <th>insult</th>\n",
       "      <th>identity_hate</th>\n",
       "    </tr>\n",
       "  </thead>\n",
       "  <tbody>\n",
       "    <tr>\n",
       "      <th>0</th>\n",
       "      <td>Explanation\\nWhy the edits made under my usern...</td>\n",
       "      <td>0</td>\n",
       "      <td>0</td>\n",
       "      <td>0</td>\n",
       "      <td>0</td>\n",
       "      <td>0</td>\n",
       "      <td>0</td>\n",
       "    </tr>\n",
       "    <tr>\n",
       "      <th>1</th>\n",
       "      <td>D'aww! He matches this background colour I'm s...</td>\n",
       "      <td>0</td>\n",
       "      <td>0</td>\n",
       "      <td>0</td>\n",
       "      <td>0</td>\n",
       "      <td>0</td>\n",
       "      <td>0</td>\n",
       "    </tr>\n",
       "    <tr>\n",
       "      <th>2</th>\n",
       "      <td>Hey man, I'm really not trying to edit war. It...</td>\n",
       "      <td>0</td>\n",
       "      <td>0</td>\n",
       "      <td>0</td>\n",
       "      <td>0</td>\n",
       "      <td>0</td>\n",
       "      <td>0</td>\n",
       "    </tr>\n",
       "    <tr>\n",
       "      <th>3</th>\n",
       "      <td>\"\\nMore\\nI can't make any real suggestions on ...</td>\n",
       "      <td>0</td>\n",
       "      <td>0</td>\n",
       "      <td>0</td>\n",
       "      <td>0</td>\n",
       "      <td>0</td>\n",
       "      <td>0</td>\n",
       "    </tr>\n",
       "    <tr>\n",
       "      <th>4</th>\n",
       "      <td>You, sir, are my hero. Any chance you remember...</td>\n",
       "      <td>0</td>\n",
       "      <td>0</td>\n",
       "      <td>0</td>\n",
       "      <td>0</td>\n",
       "      <td>0</td>\n",
       "      <td>0</td>\n",
       "    </tr>\n",
       "  </tbody>\n",
       "</table>\n",
       "</div>"
      ],
      "text/plain": [
       "                                        comment_text  toxic  severe_toxic  \\\n",
       "0  Explanation\\nWhy the edits made under my usern...      0             0   \n",
       "1  D'aww! He matches this background colour I'm s...      0             0   \n",
       "2  Hey man, I'm really not trying to edit war. It...      0             0   \n",
       "3  \"\\nMore\\nI can't make any real suggestions on ...      0             0   \n",
       "4  You, sir, are my hero. Any chance you remember...      0             0   \n",
       "\n",
       "   obscene  threat  insult  identity_hate  \n",
       "0        0       0       0              0  \n",
       "1        0       0       0              0  \n",
       "2        0       0       0              0  \n",
       "3        0       0       0              0  \n",
       "4        0       0       0              0  "
      ]
     },
     "execution_count": 10,
     "metadata": {},
     "output_type": "execute_result"
    }
   ],
   "source": [
    "train.head()"
   ]
  },
  {
   "cell_type": "code",
   "execution_count": 11,
   "id": "willing-belfast",
   "metadata": {
    "execution": {
     "iopub.execute_input": "2021-07-04T14:20:30.806637Z",
     "iopub.status.busy": "2021-07-04T14:20:30.805924Z",
     "iopub.status.idle": "2021-07-04T14:20:30.808896Z",
     "shell.execute_reply": "2021-07-04T14:20:30.809269Z",
     "shell.execute_reply.started": "2021-07-04T13:54:10.519653Z"
    },
    "papermill": {
     "duration": 0.038784,
     "end_time": "2021-07-04T14:20:30.809418",
     "exception": false,
     "start_time": "2021-07-04T14:20:30.770634",
     "status": "completed"
    },
    "tags": []
   },
   "outputs": [
    {
     "data": {
      "text/plain": [
       "(159571, 7)"
      ]
     },
     "execution_count": 11,
     "metadata": {},
     "output_type": "execute_result"
    }
   ],
   "source": [
    "train.shape"
   ]
  },
  {
   "cell_type": "code",
   "execution_count": 12,
   "id": "minute-mortgage",
   "metadata": {
    "execution": {
     "iopub.execute_input": "2021-07-04T14:20:30.877559Z",
     "iopub.status.busy": "2021-07-04T14:20:30.876926Z",
     "iopub.status.idle": "2021-07-04T14:20:30.879648Z",
     "shell.execute_reply": "2021-07-04T14:20:30.879227Z",
     "shell.execute_reply.started": "2021-07-04T13:54:10.527943Z"
    },
    "papermill": {
     "duration": 0.038254,
     "end_time": "2021-07-04T14:20:30.879751",
     "exception": false,
     "start_time": "2021-07-04T14:20:30.841497",
     "status": "completed"
    },
    "tags": []
   },
   "outputs": [],
   "source": [
    "import re"
   ]
  },
  {
   "cell_type": "code",
   "execution_count": 13,
   "id": "surgical-dryer",
   "metadata": {
    "execution": {
     "iopub.execute_input": "2021-07-04T14:20:30.950530Z",
     "iopub.status.busy": "2021-07-04T14:20:30.947650Z",
     "iopub.status.idle": "2021-07-04T14:20:31.119073Z",
     "shell.execute_reply": "2021-07-04T14:20:31.118614Z",
     "shell.execute_reply.started": "2021-07-04T13:54:10.534498Z"
    },
    "papermill": {
     "duration": 0.207605,
     "end_time": "2021-07-04T14:20:31.119210",
     "exception": false,
     "start_time": "2021-07-04T14:20:30.911605",
     "status": "completed"
    },
    "tags": []
   },
   "outputs": [],
   "source": [
    "train[\"comment_text\"]=train[\"comment_text\"].apply(lambda x: x.lower())"
   ]
  },
  {
   "cell_type": "code",
   "execution_count": 14,
   "id": "choice-costume",
   "metadata": {
    "execution": {
     "iopub.execute_input": "2021-07-04T14:20:31.190802Z",
     "iopub.status.busy": "2021-07-04T14:20:31.190083Z",
     "iopub.status.idle": "2021-07-04T14:20:44.811807Z",
     "shell.execute_reply": "2021-07-04T14:20:44.811346Z",
     "shell.execute_reply.started": "2021-07-04T13:54:10.723706Z"
    },
    "papermill": {
     "duration": 13.659862,
     "end_time": "2021-07-04T14:20:44.811939",
     "exception": false,
     "start_time": "2021-07-04T14:20:31.152077",
     "status": "completed"
    },
    "tags": []
   },
   "outputs": [],
   "source": [
    "train[\"comment_text\"]=train[\"comment_text\"].apply(lambda x: re.sub('\\w*\\d\\w*','', x))"
   ]
  },
  {
   "cell_type": "code",
   "execution_count": 15,
   "id": "tight-finish",
   "metadata": {
    "execution": {
     "iopub.execute_input": "2021-07-04T14:20:44.884505Z",
     "iopub.status.busy": "2021-07-04T14:20:44.883861Z",
     "iopub.status.idle": "2021-07-04T14:20:44.886348Z",
     "shell.execute_reply": "2021-07-04T14:20:44.886756Z",
     "shell.execute_reply.started": "2021-07-04T13:54:25.714680Z"
    },
    "papermill": {
     "duration": 0.04195,
     "end_time": "2021-07-04T14:20:44.886889",
     "exception": false,
     "start_time": "2021-07-04T14:20:44.844939",
     "status": "completed"
    },
    "tags": []
   },
   "outputs": [
    {
     "data": {
      "text/plain": [
       "(153164, 2)"
      ]
     },
     "execution_count": 15,
     "metadata": {},
     "output_type": "execute_result"
    }
   ],
   "source": [
    "test.shape"
   ]
  },
  {
   "cell_type": "code",
   "execution_count": 16,
   "id": "activated-stylus",
   "metadata": {
    "execution": {
     "iopub.execute_input": "2021-07-04T14:20:44.959221Z",
     "iopub.status.busy": "2021-07-04T14:20:44.958519Z",
     "iopub.status.idle": "2021-07-04T14:20:47.153382Z",
     "shell.execute_reply": "2021-07-04T14:20:47.152921Z",
     "shell.execute_reply.started": "2021-07-04T13:54:25.723485Z"
    },
    "papermill": {
     "duration": 2.233337,
     "end_time": "2021-07-04T14:20:47.153512",
     "exception": false,
     "start_time": "2021-07-04T14:20:44.920175",
     "status": "completed"
    },
    "tags": []
   },
   "outputs": [],
   "source": [
    "import string\n",
    "train[\"comment_text\"]=train[\"comment_text\"].apply(lambda x: re.sub('[%s]' % re.escape(string.punctuation), '', x))"
   ]
  },
  {
   "cell_type": "code",
   "execution_count": 17,
   "id": "breeding-thunder",
   "metadata": {
    "execution": {
     "iopub.execute_input": "2021-07-04T14:20:47.225970Z",
     "iopub.status.busy": "2021-07-04T14:20:47.223939Z",
     "iopub.status.idle": "2021-07-04T14:20:47.571403Z",
     "shell.execute_reply": "2021-07-04T14:20:47.571804Z",
     "shell.execute_reply.started": "2021-07-04T13:54:28.061132Z"
    },
    "papermill": {
     "duration": 0.384964,
     "end_time": "2021-07-04T14:20:47.571958",
     "exception": false,
     "start_time": "2021-07-04T14:20:47.186994",
     "status": "completed"
    },
    "tags": []
   },
   "outputs": [
    {
     "data": {
      "text/plain": [
       "0         explanation why the edits made under my userna...\n",
       "1         daww he matches this background colour im seem...\n",
       "2         hey man im really not trying to edit war its j...\n",
       "3          more i cant make any real suggestions on impr...\n",
       "4         you sir are my hero any chance you remember wh...\n",
       "                                ...                        \n",
       "159566    and for the second time of asking when your vi...\n",
       "159567    you should be ashamed of yourself   that is a ...\n",
       "159568    spitzer   umm theres no actual article for pro...\n",
       "159569    and it looks like it was actually you who put ...\n",
       "159570     and  i really dont think you understand  i ca...\n",
       "Name: comment_text, Length: 159571, dtype: object"
      ]
     },
     "execution_count": 17,
     "metadata": {},
     "output_type": "execute_result"
    }
   ],
   "source": [
    "def clean_text(text):\n",
    "    text = re.sub(r\"\\n\", \" \", text)\n",
    "    return text\n",
    "train[\"comment_text\"] = train[\"comment_text\"].apply(clean_text)\n",
    "train[\"comment_text\"]"
   ]
  },
  {
   "cell_type": "code",
   "execution_count": 18,
   "id": "allied-walter",
   "metadata": {
    "execution": {
     "iopub.execute_input": "2021-07-04T14:20:47.650173Z",
     "iopub.status.busy": "2021-07-04T14:20:47.649335Z",
     "iopub.status.idle": "2021-07-04T14:20:47.653205Z",
     "shell.execute_reply": "2021-07-04T14:20:47.652818Z",
     "shell.execute_reply.started": "2021-07-04T13:54:28.422077Z"
    },
    "papermill": {
     "duration": 0.048359,
     "end_time": "2021-07-04T14:20:47.653312",
     "exception": false,
     "start_time": "2021-07-04T14:20:47.604953",
     "status": "completed"
    },
    "tags": []
   },
   "outputs": [
    {
     "data": {
      "text/html": [
       "<div>\n",
       "<style scoped>\n",
       "    .dataframe tbody tr th:only-of-type {\n",
       "        vertical-align: middle;\n",
       "    }\n",
       "\n",
       "    .dataframe tbody tr th {\n",
       "        vertical-align: top;\n",
       "    }\n",
       "\n",
       "    .dataframe thead th {\n",
       "        text-align: right;\n",
       "    }\n",
       "</style>\n",
       "<table border=\"1\" class=\"dataframe\">\n",
       "  <thead>\n",
       "    <tr style=\"text-align: right;\">\n",
       "      <th></th>\n",
       "      <th>comment_text</th>\n",
       "      <th>toxic</th>\n",
       "      <th>severe_toxic</th>\n",
       "      <th>obscene</th>\n",
       "      <th>threat</th>\n",
       "      <th>insult</th>\n",
       "      <th>identity_hate</th>\n",
       "    </tr>\n",
       "  </thead>\n",
       "  <tbody>\n",
       "    <tr>\n",
       "      <th>0</th>\n",
       "      <td>explanation why the edits made under my userna...</td>\n",
       "      <td>0</td>\n",
       "      <td>0</td>\n",
       "      <td>0</td>\n",
       "      <td>0</td>\n",
       "      <td>0</td>\n",
       "      <td>0</td>\n",
       "    </tr>\n",
       "    <tr>\n",
       "      <th>1</th>\n",
       "      <td>daww he matches this background colour im seem...</td>\n",
       "      <td>0</td>\n",
       "      <td>0</td>\n",
       "      <td>0</td>\n",
       "      <td>0</td>\n",
       "      <td>0</td>\n",
       "      <td>0</td>\n",
       "    </tr>\n",
       "    <tr>\n",
       "      <th>2</th>\n",
       "      <td>hey man im really not trying to edit war its j...</td>\n",
       "      <td>0</td>\n",
       "      <td>0</td>\n",
       "      <td>0</td>\n",
       "      <td>0</td>\n",
       "      <td>0</td>\n",
       "      <td>0</td>\n",
       "    </tr>\n",
       "    <tr>\n",
       "      <th>3</th>\n",
       "      <td>more i cant make any real suggestions on impr...</td>\n",
       "      <td>0</td>\n",
       "      <td>0</td>\n",
       "      <td>0</td>\n",
       "      <td>0</td>\n",
       "      <td>0</td>\n",
       "      <td>0</td>\n",
       "    </tr>\n",
       "    <tr>\n",
       "      <th>4</th>\n",
       "      <td>you sir are my hero any chance you remember wh...</td>\n",
       "      <td>0</td>\n",
       "      <td>0</td>\n",
       "      <td>0</td>\n",
       "      <td>0</td>\n",
       "      <td>0</td>\n",
       "      <td>0</td>\n",
       "    </tr>\n",
       "    <tr>\n",
       "      <th>...</th>\n",
       "      <td>...</td>\n",
       "      <td>...</td>\n",
       "      <td>...</td>\n",
       "      <td>...</td>\n",
       "      <td>...</td>\n",
       "      <td>...</td>\n",
       "      <td>...</td>\n",
       "    </tr>\n",
       "    <tr>\n",
       "      <th>159566</th>\n",
       "      <td>and for the second time of asking when your vi...</td>\n",
       "      <td>0</td>\n",
       "      <td>0</td>\n",
       "      <td>0</td>\n",
       "      <td>0</td>\n",
       "      <td>0</td>\n",
       "      <td>0</td>\n",
       "    </tr>\n",
       "    <tr>\n",
       "      <th>159567</th>\n",
       "      <td>you should be ashamed of yourself   that is a ...</td>\n",
       "      <td>0</td>\n",
       "      <td>0</td>\n",
       "      <td>0</td>\n",
       "      <td>0</td>\n",
       "      <td>0</td>\n",
       "      <td>0</td>\n",
       "    </tr>\n",
       "    <tr>\n",
       "      <th>159568</th>\n",
       "      <td>spitzer   umm theres no actual article for pro...</td>\n",
       "      <td>0</td>\n",
       "      <td>0</td>\n",
       "      <td>0</td>\n",
       "      <td>0</td>\n",
       "      <td>0</td>\n",
       "      <td>0</td>\n",
       "    </tr>\n",
       "    <tr>\n",
       "      <th>159569</th>\n",
       "      <td>and it looks like it was actually you who put ...</td>\n",
       "      <td>0</td>\n",
       "      <td>0</td>\n",
       "      <td>0</td>\n",
       "      <td>0</td>\n",
       "      <td>0</td>\n",
       "      <td>0</td>\n",
       "    </tr>\n",
       "    <tr>\n",
       "      <th>159570</th>\n",
       "      <td>and  i really dont think you understand  i ca...</td>\n",
       "      <td>0</td>\n",
       "      <td>0</td>\n",
       "      <td>0</td>\n",
       "      <td>0</td>\n",
       "      <td>0</td>\n",
       "      <td>0</td>\n",
       "    </tr>\n",
       "  </tbody>\n",
       "</table>\n",
       "<p>159571 rows × 7 columns</p>\n",
       "</div>"
      ],
      "text/plain": [
       "                                             comment_text  toxic  \\\n",
       "0       explanation why the edits made under my userna...      0   \n",
       "1       daww he matches this background colour im seem...      0   \n",
       "2       hey man im really not trying to edit war its j...      0   \n",
       "3        more i cant make any real suggestions on impr...      0   \n",
       "4       you sir are my hero any chance you remember wh...      0   \n",
       "...                                                   ...    ...   \n",
       "159566  and for the second time of asking when your vi...      0   \n",
       "159567  you should be ashamed of yourself   that is a ...      0   \n",
       "159568  spitzer   umm theres no actual article for pro...      0   \n",
       "159569  and it looks like it was actually you who put ...      0   \n",
       "159570   and  i really dont think you understand  i ca...      0   \n",
       "\n",
       "        severe_toxic  obscene  threat  insult  identity_hate  \n",
       "0                  0        0       0       0              0  \n",
       "1                  0        0       0       0              0  \n",
       "2                  0        0       0       0              0  \n",
       "3                  0        0       0       0              0  \n",
       "4                  0        0       0       0              0  \n",
       "...              ...      ...     ...     ...            ...  \n",
       "159566             0        0       0       0              0  \n",
       "159567             0        0       0       0              0  \n",
       "159568             0        0       0       0              0  \n",
       "159569             0        0       0       0              0  \n",
       "159570             0        0       0       0              0  \n",
       "\n",
       "[159571 rows x 7 columns]"
      ]
     },
     "execution_count": 18,
     "metadata": {},
     "output_type": "execute_result"
    }
   ],
   "source": [
    "train"
   ]
  },
  {
   "cell_type": "code",
   "execution_count": 19,
   "id": "liquid-ethnic",
   "metadata": {
    "execution": {
     "iopub.execute_input": "2021-07-04T14:20:47.723309Z",
     "iopub.status.busy": "2021-07-04T14:20:47.722791Z",
     "iopub.status.idle": "2021-07-04T14:20:49.985389Z",
     "shell.execute_reply": "2021-07-04T14:20:49.984915Z",
     "shell.execute_reply.started": "2021-07-04T13:54:28.442794Z"
    },
    "papermill": {
     "duration": 2.298849,
     "end_time": "2021-07-04T14:20:49.985543",
     "exception": false,
     "start_time": "2021-07-04T14:20:47.686694",
     "status": "completed"
    },
    "tags": []
   },
   "outputs": [],
   "source": [
    "train.to_csv('train.csv',index=False)"
   ]
  },
  {
   "cell_type": "code",
   "execution_count": 20,
   "id": "remarkable-viewer",
   "metadata": {
    "execution": {
     "iopub.execute_input": "2021-07-04T14:20:50.063287Z",
     "iopub.status.busy": "2021-07-04T14:20:50.062495Z",
     "iopub.status.idle": "2021-07-04T14:20:50.065722Z",
     "shell.execute_reply": "2021-07-04T14:20:50.066177Z",
     "shell.execute_reply.started": "2021-07-04T13:54:31.180630Z"
    },
    "papermill": {
     "duration": 0.045963,
     "end_time": "2021-07-04T14:20:50.066302",
     "exception": false,
     "start_time": "2021-07-04T14:20:50.020339",
     "status": "completed"
    },
    "tags": []
   },
   "outputs": [
    {
     "data": {
      "text/html": [
       "<div>\n",
       "<style scoped>\n",
       "    .dataframe tbody tr th:only-of-type {\n",
       "        vertical-align: middle;\n",
       "    }\n",
       "\n",
       "    .dataframe tbody tr th {\n",
       "        vertical-align: top;\n",
       "    }\n",
       "\n",
       "    .dataframe thead th {\n",
       "        text-align: right;\n",
       "    }\n",
       "</style>\n",
       "<table border=\"1\" class=\"dataframe\">\n",
       "  <thead>\n",
       "    <tr style=\"text-align: right;\">\n",
       "      <th></th>\n",
       "      <th>comment_text</th>\n",
       "      <th>toxic</th>\n",
       "      <th>severe_toxic</th>\n",
       "      <th>obscene</th>\n",
       "      <th>threat</th>\n",
       "      <th>insult</th>\n",
       "      <th>identity_hate</th>\n",
       "    </tr>\n",
       "  </thead>\n",
       "  <tbody>\n",
       "    <tr>\n",
       "      <th>0</th>\n",
       "      <td>explanation why the edits made under my userna...</td>\n",
       "      <td>0</td>\n",
       "      <td>0</td>\n",
       "      <td>0</td>\n",
       "      <td>0</td>\n",
       "      <td>0</td>\n",
       "      <td>0</td>\n",
       "    </tr>\n",
       "    <tr>\n",
       "      <th>1</th>\n",
       "      <td>daww he matches this background colour im seem...</td>\n",
       "      <td>0</td>\n",
       "      <td>0</td>\n",
       "      <td>0</td>\n",
       "      <td>0</td>\n",
       "      <td>0</td>\n",
       "      <td>0</td>\n",
       "    </tr>\n",
       "    <tr>\n",
       "      <th>2</th>\n",
       "      <td>hey man im really not trying to edit war its j...</td>\n",
       "      <td>0</td>\n",
       "      <td>0</td>\n",
       "      <td>0</td>\n",
       "      <td>0</td>\n",
       "      <td>0</td>\n",
       "      <td>0</td>\n",
       "    </tr>\n",
       "    <tr>\n",
       "      <th>3</th>\n",
       "      <td>more i cant make any real suggestions on impr...</td>\n",
       "      <td>0</td>\n",
       "      <td>0</td>\n",
       "      <td>0</td>\n",
       "      <td>0</td>\n",
       "      <td>0</td>\n",
       "      <td>0</td>\n",
       "    </tr>\n",
       "    <tr>\n",
       "      <th>4</th>\n",
       "      <td>you sir are my hero any chance you remember wh...</td>\n",
       "      <td>0</td>\n",
       "      <td>0</td>\n",
       "      <td>0</td>\n",
       "      <td>0</td>\n",
       "      <td>0</td>\n",
       "      <td>0</td>\n",
       "    </tr>\n",
       "  </tbody>\n",
       "</table>\n",
       "</div>"
      ],
      "text/plain": [
       "                                        comment_text  toxic  severe_toxic  \\\n",
       "0  explanation why the edits made under my userna...      0             0   \n",
       "1  daww he matches this background colour im seem...      0             0   \n",
       "2  hey man im really not trying to edit war its j...      0             0   \n",
       "3   more i cant make any real suggestions on impr...      0             0   \n",
       "4  you sir are my hero any chance you remember wh...      0             0   \n",
       "\n",
       "   obscene  threat  insult  identity_hate  \n",
       "0        0       0       0              0  \n",
       "1        0       0       0              0  \n",
       "2        0       0       0              0  \n",
       "3        0       0       0              0  \n",
       "4        0       0       0              0  "
      ]
     },
     "execution_count": 20,
     "metadata": {},
     "output_type": "execute_result"
    }
   ],
   "source": [
    "train.head()"
   ]
  },
  {
   "cell_type": "code",
   "execution_count": 21,
   "id": "original-timing",
   "metadata": {
    "execution": {
     "iopub.execute_input": "2021-07-04T14:20:50.137907Z",
     "iopub.status.busy": "2021-07-04T14:20:50.137204Z",
     "iopub.status.idle": "2021-07-04T14:20:50.139516Z",
     "shell.execute_reply": "2021-07-04T14:20:50.139875Z",
     "shell.execute_reply.started": "2021-07-04T13:54:31.192095Z"
    },
    "papermill": {
     "duration": 0.0395,
     "end_time": "2021-07-04T14:20:50.139997",
     "exception": false,
     "start_time": "2021-07-04T14:20:50.100497",
     "status": "completed"
    },
    "tags": []
   },
   "outputs": [],
   "source": [
    "X = train.comment_text"
   ]
  },
  {
   "cell_type": "code",
   "execution_count": 22,
   "id": "unlikely-guyana",
   "metadata": {
    "execution": {
     "iopub.execute_input": "2021-07-04T14:20:50.210788Z",
     "iopub.status.busy": "2021-07-04T14:20:50.210111Z",
     "iopub.status.idle": "2021-07-04T14:20:50.336005Z",
     "shell.execute_reply": "2021-07-04T14:20:50.335603Z",
     "shell.execute_reply.started": "2021-07-04T13:54:31.201955Z"
    },
    "papermill": {
     "duration": 0.162568,
     "end_time": "2021-07-04T14:20:50.336117",
     "exception": false,
     "start_time": "2021-07-04T14:20:50.173549",
     "status": "completed"
    },
    "tags": []
   },
   "outputs": [
    {
     "data": {
      "text/plain": [
       "TfidfVectorizer(max_features=5000, stop_words='english')"
      ]
     },
     "execution_count": 22,
     "metadata": {},
     "output_type": "execute_result"
    }
   ],
   "source": [
    "from sklearn.feature_extraction.text import TfidfVectorizer\n",
    "vect = TfidfVectorizer(max_features=5000,stop_words='english')\n",
    "vect"
   ]
  },
  {
   "cell_type": "code",
   "execution_count": 23,
   "id": "productive-burns",
   "metadata": {
    "execution": {
     "iopub.execute_input": "2021-07-04T14:20:50.408546Z",
     "iopub.status.busy": "2021-07-04T14:20:50.407832Z",
     "iopub.status.idle": "2021-07-04T14:20:50.410825Z",
     "shell.execute_reply": "2021-07-04T14:20:50.411188Z",
     "shell.execute_reply.started": "2021-07-04T13:54:31.333483Z"
    },
    "papermill": {
     "duration": 0.040975,
     "end_time": "2021-07-04T14:20:50.411313",
     "exception": false,
     "start_time": "2021-07-04T14:20:50.370338",
     "status": "completed"
    },
    "tags": []
   },
   "outputs": [
    {
     "data": {
      "text/plain": [
       "pandas.core.series.Series"
      ]
     },
     "execution_count": 23,
     "metadata": {},
     "output_type": "execute_result"
    }
   ],
   "source": [
    "type(X)"
   ]
  },
  {
   "cell_type": "code",
   "execution_count": 24,
   "id": "still-mercy",
   "metadata": {
    "execution": {
     "iopub.execute_input": "2021-07-04T14:20:50.483912Z",
     "iopub.status.busy": "2021-07-04T14:20:50.483166Z",
     "iopub.status.idle": "2021-07-04T14:20:50.486789Z",
     "shell.execute_reply": "2021-07-04T14:20:50.486372Z",
     "shell.execute_reply.started": "2021-07-04T13:54:31.340359Z"
    },
    "papermill": {
     "duration": 0.041143,
     "end_time": "2021-07-04T14:20:50.486886",
     "exception": false,
     "start_time": "2021-07-04T14:20:50.445743",
     "status": "completed"
    },
    "tags": []
   },
   "outputs": [
    {
     "data": {
      "text/plain": [
       "(153164, 2)"
      ]
     },
     "execution_count": 24,
     "metadata": {},
     "output_type": "execute_result"
    }
   ],
   "source": [
    "test.shape"
   ]
  },
  {
   "cell_type": "code",
   "execution_count": 25,
   "id": "confidential-explanation",
   "metadata": {
    "execution": {
     "iopub.execute_input": "2021-07-04T14:20:50.560043Z",
     "iopub.status.busy": "2021-07-04T14:20:50.559325Z",
     "iopub.status.idle": "2021-07-04T14:20:50.561890Z",
     "shell.execute_reply": "2021-07-04T14:20:50.561505Z",
     "shell.execute_reply.started": "2021-07-04T13:54:31.350987Z"
    },
    "papermill": {
     "duration": 0.040242,
     "end_time": "2021-07-04T14:20:50.561989",
     "exception": false,
     "start_time": "2021-07-04T14:20:50.521747",
     "status": "completed"
    },
    "tags": []
   },
   "outputs": [],
   "source": [
    "test_df = test.comment_text"
   ]
  },
  {
   "cell_type": "code",
   "execution_count": 26,
   "id": "senior-bangladesh",
   "metadata": {
    "execution": {
     "iopub.execute_input": "2021-07-04T14:20:50.692511Z",
     "iopub.status.busy": "2021-07-04T14:20:50.682183Z",
     "iopub.status.idle": "2021-07-04T14:21:08.958724Z",
     "shell.execute_reply": "2021-07-04T14:21:08.958207Z",
     "shell.execute_reply.started": "2021-07-04T13:54:31.358373Z"
    },
    "papermill": {
     "duration": 18.361612,
     "end_time": "2021-07-04T14:21:08.958862",
     "exception": false,
     "start_time": "2021-07-04T14:20:50.597250",
     "status": "completed"
    },
    "tags": []
   },
   "outputs": [],
   "source": [
    "X_train = vect.fit_transform(X.astype('U'))\n",
    "X_test = vect.transform(test_df.astype('U'))"
   ]
  },
  {
   "cell_type": "code",
   "execution_count": 27,
   "id": "blond-details",
   "metadata": {
    "execution": {
     "iopub.execute_input": "2021-07-04T14:21:09.033289Z",
     "iopub.status.busy": "2021-07-04T14:21:09.032763Z",
     "iopub.status.idle": "2021-07-04T14:21:09.038772Z",
     "shell.execute_reply": "2021-07-04T14:21:09.038247Z",
     "shell.execute_reply.started": "2021-07-04T13:54:50.014402Z"
    },
    "papermill": {
     "duration": 0.044527,
     "end_time": "2021-07-04T14:21:09.038901",
     "exception": false,
     "start_time": "2021-07-04T14:21:08.994374",
     "status": "completed"
    },
    "tags": []
   },
   "outputs": [
    {
     "data": {
      "text/plain": [
       "<153164x5000 sparse matrix of type '<class 'numpy.float64'>'\n",
       "\twith 2582096 stored elements in Compressed Sparse Row format>"
      ]
     },
     "execution_count": 27,
     "metadata": {},
     "output_type": "execute_result"
    }
   ],
   "source": [
    "X_test"
   ]
  },
  {
   "cell_type": "code",
   "execution_count": 28,
   "id": "existing-highland",
   "metadata": {
    "execution": {
     "iopub.execute_input": "2021-07-04T14:21:09.113081Z",
     "iopub.status.busy": "2021-07-04T14:21:09.112587Z",
     "iopub.status.idle": "2021-07-04T14:21:09.117971Z",
     "shell.execute_reply": "2021-07-04T14:21:09.118381Z",
     "shell.execute_reply.started": "2021-07-04T13:54:50.021974Z"
    },
    "papermill": {
     "duration": 0.044295,
     "end_time": "2021-07-04T14:21:09.118508",
     "exception": false,
     "start_time": "2021-07-04T14:21:09.074213",
     "status": "completed"
    },
    "tags": []
   },
   "outputs": [
    {
     "data": {
      "text/plain": [
       "<159571x5000 sparse matrix of type '<class 'numpy.float64'>'\n",
       "\twith 3074764 stored elements in Compressed Sparse Row format>"
      ]
     },
     "execution_count": 28,
     "metadata": {},
     "output_type": "execute_result"
    }
   ],
   "source": [
    "X_train"
   ]
  },
  {
   "cell_type": "code",
   "execution_count": 29,
   "id": "ambient-sword",
   "metadata": {
    "execution": {
     "iopub.execute_input": "2021-07-04T14:21:09.193091Z",
     "iopub.status.busy": "2021-07-04T14:21:09.192343Z",
     "iopub.status.idle": "2021-07-04T14:21:09.194997Z",
     "shell.execute_reply": "2021-07-04T14:21:09.194610Z",
     "shell.execute_reply.started": "2021-07-04T13:54:50.034003Z"
    },
    "papermill": {
     "duration": 0.040714,
     "end_time": "2021-07-04T14:21:09.195098",
     "exception": false,
     "start_time": "2021-07-04T14:21:09.154384",
     "status": "completed"
    },
    "tags": []
   },
   "outputs": [],
   "source": [
    "import sklearn"
   ]
  },
  {
   "cell_type": "code",
   "execution_count": 30,
   "id": "driving-means",
   "metadata": {
    "execution": {
     "iopub.execute_input": "2021-07-04T14:21:09.269543Z",
     "iopub.status.busy": "2021-07-04T14:21:09.268846Z",
     "iopub.status.idle": "2021-07-04T14:21:09.384116Z",
     "shell.execute_reply": "2021-07-04T14:21:09.383628Z",
     "shell.execute_reply.started": "2021-07-04T13:54:50.042194Z"
    },
    "papermill": {
     "duration": 0.153409,
     "end_time": "2021-07-04T14:21:09.384228",
     "exception": false,
     "start_time": "2021-07-04T14:21:09.230819",
     "status": "completed"
    },
    "tags": []
   },
   "outputs": [],
   "source": [
    "\n",
    "from sklearn.linear_model import LogisticRegression\n",
    "from sklearn.metrics import accuracy_score\n",
    "logreg = LogisticRegression(C=24.0)"
   ]
  },
  {
   "cell_type": "code",
   "execution_count": 31,
   "id": "unknown-benefit",
   "metadata": {
    "execution": {
     "iopub.execute_input": "2021-07-04T14:21:09.460126Z",
     "iopub.status.busy": "2021-07-04T14:21:09.459433Z",
     "iopub.status.idle": "2021-07-04T14:21:09.588089Z",
     "shell.execute_reply": "2021-07-04T14:21:09.588511Z",
     "shell.execute_reply.started": "2021-07-04T13:54:50.173492Z"
    },
    "papermill": {
     "duration": 0.168637,
     "end_time": "2021-07-04T14:21:09.588659",
     "exception": false,
     "start_time": "2021-07-04T14:21:09.420022",
     "status": "completed"
    },
    "tags": []
   },
   "outputs": [
    {
     "data": {
      "text/plain": [
       "(153164, 7)"
      ]
     },
     "execution_count": 31,
     "metadata": {},
     "output_type": "execute_result"
    }
   ],
   "source": [
    "submission_binary1 = pd.read_csv('./sample_submission.csv')\n",
    "submission_binary1.shape"
   ]
  },
  {
   "cell_type": "code",
   "execution_count": null,
   "id": "industrial-pressure",
   "metadata": {
    "papermill": {
     "duration": 0.0351,
     "end_time": "2021-07-04T14:21:09.659283",
     "exception": false,
     "start_time": "2021-07-04T14:21:09.624183",
     "status": "completed"
    },
    "tags": []
   },
   "outputs": [],
   "source": []
  },
  {
   "cell_type": "code",
   "execution_count": 32,
   "id": "remarkable-entertainment",
   "metadata": {
    "execution": {
     "iopub.execute_input": "2021-07-04T14:21:09.736588Z",
     "iopub.status.busy": "2021-07-04T14:21:09.735695Z",
     "iopub.status.idle": "2021-07-04T14:21:23.767787Z",
     "shell.execute_reply": "2021-07-04T14:21:23.768333Z",
     "shell.execute_reply.started": "2021-07-04T13:54:50.316216Z"
    },
    "papermill": {
     "duration": 14.073774,
     "end_time": "2021-07-04T14:21:23.768554",
     "exception": false,
     "start_time": "2021-07-04T14:21:09.694780",
     "status": "completed"
    },
    "tags": []
   },
   "outputs": [
    {
     "name": "stdout",
     "output_type": "stream",
     "text": [
      "... Processing obscene\n"
     ]
    },
    {
     "name": "stderr",
     "output_type": "stream",
     "text": [
      "/opt/conda/lib/python3.7/site-packages/sklearn/linear_model/_logistic.py:765: ConvergenceWarning: lbfgs failed to converge (status=1):\n",
      "STOP: TOTAL NO. of ITERATIONS REACHED LIMIT.\n",
      "\n",
      "Increase the number of iterations (max_iter) or scale the data as shown in:\n",
      "    https://scikit-learn.org/stable/modules/preprocessing.html\n",
      "Please also refer to the documentation for alternative solver options:\n",
      "    https://scikit-learn.org/stable/modules/linear_model.html#logistic-regression\n",
      "  extra_warning_msg=_LOGISTIC_SOLVER_CONVERGENCE_MSG)\n"
     ]
    },
    {
     "name": "stdout",
     "output_type": "stream",
     "text": [
      "Training accuracy is 0.9835621760846269\n",
      "              precision    recall  f1-score   support\n",
      "\n",
      "           0       0.99      1.00      0.99    151122\n",
      "           1       0.91      0.77      0.83      8449\n",
      "\n",
      "    accuracy                           0.98    159571\n",
      "   macro avg       0.95      0.88      0.91    159571\n",
      "weighted avg       0.98      0.98      0.98    159571\n",
      "\n",
      "(153164,)\n",
      "... Processing insult\n"
     ]
    },
    {
     "name": "stderr",
     "output_type": "stream",
     "text": [
      "/opt/conda/lib/python3.7/site-packages/sklearn/linear_model/_logistic.py:765: ConvergenceWarning: lbfgs failed to converge (status=1):\n",
      "STOP: TOTAL NO. of ITERATIONS REACHED LIMIT.\n",
      "\n",
      "Increase the number of iterations (max_iter) or scale the data as shown in:\n",
      "    https://scikit-learn.org/stable/modules/preprocessing.html\n",
      "Please also refer to the documentation for alternative solver options:\n",
      "    https://scikit-learn.org/stable/modules/linear_model.html#logistic-regression\n",
      "  extra_warning_msg=_LOGISTIC_SOLVER_CONVERGENCE_MSG)\n"
     ]
    },
    {
     "name": "stdout",
     "output_type": "stream",
     "text": [
      "Training accuracy is 0.9760232122378126\n",
      "              precision    recall  f1-score   support\n",
      "\n",
      "           0       0.98      0.99      0.99    151694\n",
      "           1       0.83      0.65      0.73      7877\n",
      "\n",
      "    accuracy                           0.98    159571\n",
      "   macro avg       0.91      0.82      0.86    159571\n",
      "weighted avg       0.97      0.98      0.97    159571\n",
      "\n",
      "(153164,)\n",
      "... Processing toxic\n"
     ]
    },
    {
     "name": "stderr",
     "output_type": "stream",
     "text": [
      "/opt/conda/lib/python3.7/site-packages/sklearn/linear_model/_logistic.py:765: ConvergenceWarning: lbfgs failed to converge (status=1):\n",
      "STOP: TOTAL NO. of ITERATIONS REACHED LIMIT.\n",
      "\n",
      "Increase the number of iterations (max_iter) or scale the data as shown in:\n",
      "    https://scikit-learn.org/stable/modules/preprocessing.html\n",
      "Please also refer to the documentation for alternative solver options:\n",
      "    https://scikit-learn.org/stable/modules/linear_model.html#logistic-regression\n",
      "  extra_warning_msg=_LOGISTIC_SOLVER_CONVERGENCE_MSG)\n"
     ]
    },
    {
     "name": "stdout",
     "output_type": "stream",
     "text": [
      "Training accuracy is 0.9634896065074481\n",
      "              precision    recall  f1-score   support\n",
      "\n",
      "           0       0.97      0.99      0.98    144277\n",
      "           1       0.89      0.71      0.79     15294\n",
      "\n",
      "    accuracy                           0.96    159571\n",
      "   macro avg       0.93      0.85      0.88    159571\n",
      "weighted avg       0.96      0.96      0.96    159571\n",
      "\n",
      "(153164,)\n",
      "... Processing severe_toxic\n"
     ]
    },
    {
     "name": "stderr",
     "output_type": "stream",
     "text": [
      "/opt/conda/lib/python3.7/site-packages/sklearn/linear_model/_logistic.py:765: ConvergenceWarning: lbfgs failed to converge (status=1):\n",
      "STOP: TOTAL NO. of ITERATIONS REACHED LIMIT.\n",
      "\n",
      "Increase the number of iterations (max_iter) or scale the data as shown in:\n",
      "    https://scikit-learn.org/stable/modules/preprocessing.html\n",
      "Please also refer to the documentation for alternative solver options:\n",
      "    https://scikit-learn.org/stable/modules/linear_model.html#logistic-regression\n",
      "  extra_warning_msg=_LOGISTIC_SOLVER_CONVERGENCE_MSG)\n"
     ]
    },
    {
     "name": "stdout",
     "output_type": "stream",
     "text": [
      "Training accuracy is 0.9923795677159384\n",
      "              precision    recall  f1-score   support\n",
      "\n",
      "           0       0.99      1.00      1.00    157976\n",
      "           1       0.71      0.41      0.52      1595\n",
      "\n",
      "    accuracy                           0.99    159571\n",
      "   macro avg       0.85      0.70      0.76    159571\n",
      "weighted avg       0.99      0.99      0.99    159571\n",
      "\n",
      "(153164,)\n",
      "... Processing identity_hate\n"
     ]
    },
    {
     "name": "stderr",
     "output_type": "stream",
     "text": [
      "/opt/conda/lib/python3.7/site-packages/sklearn/linear_model/_logistic.py:765: ConvergenceWarning: lbfgs failed to converge (status=1):\n",
      "STOP: TOTAL NO. of ITERATIONS REACHED LIMIT.\n",
      "\n",
      "Increase the number of iterations (max_iter) or scale the data as shown in:\n",
      "    https://scikit-learn.org/stable/modules/preprocessing.html\n",
      "Please also refer to the documentation for alternative solver options:\n",
      "    https://scikit-learn.org/stable/modules/linear_model.html#logistic-regression\n",
      "  extra_warning_msg=_LOGISTIC_SOLVER_CONVERGENCE_MSG)\n"
     ]
    },
    {
     "name": "stdout",
     "output_type": "stream",
     "text": [
      "Training accuracy is 0.9944037450413923\n",
      "              precision    recall  f1-score   support\n",
      "\n",
      "           0       1.00      1.00      1.00    158166\n",
      "           1       0.82      0.46      0.59      1405\n",
      "\n",
      "    accuracy                           0.99    159571\n",
      "   macro avg       0.91      0.73      0.80    159571\n",
      "weighted avg       0.99      0.99      0.99    159571\n",
      "\n",
      "(153164,)\n",
      "... Processing threat\n",
      "Training accuracy is 0.9985085009180866\n",
      "              precision    recall  f1-score   support\n",
      "\n",
      "           0       1.00      1.00      1.00    159093\n",
      "           1       0.90      0.56      0.69       478\n",
      "\n",
      "    accuracy                           1.00    159571\n",
      "   macro avg       0.95      0.78      0.85    159571\n",
      "weighted avg       1.00      1.00      1.00    159571\n",
      "\n",
      "(153164,)\n"
     ]
    },
    {
     "name": "stderr",
     "output_type": "stream",
     "text": [
      "/opt/conda/lib/python3.7/site-packages/sklearn/linear_model/_logistic.py:765: ConvergenceWarning: lbfgs failed to converge (status=1):\n",
      "STOP: TOTAL NO. of ITERATIONS REACHED LIMIT.\n",
      "\n",
      "Increase the number of iterations (max_iter) or scale the data as shown in:\n",
      "    https://scikit-learn.org/stable/modules/preprocessing.html\n",
      "Please also refer to the documentation for alternative solver options:\n",
      "    https://scikit-learn.org/stable/modules/linear_model.html#logistic-regression\n",
      "  extra_warning_msg=_LOGISTIC_SOLVER_CONVERGENCE_MSG)\n"
     ]
    }
   ],
   "source": [
    "from sklearn.metrics import classification_report\n",
    "for label in cols_target:\n",
    "    print('... Processing {}'.format(label))\n",
    "    y = train[label]\n",
    "    # train the model using X_dtm & y\n",
    "    logreg.fit(X_train, y)\n",
    "    # compute the training accuracy\n",
    "    y_pred_X = logreg.predict(X_train)\n",
    "    print('Training accuracy is {}'.format(accuracy_score(y, y_pred_X)))\n",
    "    print(classification_report(y,y_pred_X))\n",
    "    # compute the predicted probabilities for X_test_dtm\n",
    "    test_y_prob = logreg.predict_proba(X_test)[:,1]\n",
    "    print(test_y_prob.shape)\n",
    "    submission_binary1[label] = test_y_prob"
   ]
  },
  {
   "cell_type": "code",
   "execution_count": 33,
   "id": "explicit-conducting",
   "metadata": {
    "execution": {
     "iopub.execute_input": "2021-07-04T14:21:23.860624Z",
     "iopub.status.busy": "2021-07-04T14:21:23.860023Z",
     "iopub.status.idle": "2021-07-04T14:21:23.864928Z",
     "shell.execute_reply": "2021-07-04T14:21:23.864530Z",
     "shell.execute_reply.started": "2021-07-04T13:55:04.675854Z"
    },
    "papermill": {
     "duration": 0.055768,
     "end_time": "2021-07-04T14:21:23.865037",
     "exception": false,
     "start_time": "2021-07-04T14:21:23.809269",
     "status": "completed"
    },
    "tags": []
   },
   "outputs": [
    {
     "data": {
      "text/html": [
       "<div>\n",
       "<style scoped>\n",
       "    .dataframe tbody tr th:only-of-type {\n",
       "        vertical-align: middle;\n",
       "    }\n",
       "\n",
       "    .dataframe tbody tr th {\n",
       "        vertical-align: top;\n",
       "    }\n",
       "\n",
       "    .dataframe thead th {\n",
       "        text-align: right;\n",
       "    }\n",
       "</style>\n",
       "<table border=\"1\" class=\"dataframe\">\n",
       "  <thead>\n",
       "    <tr style=\"text-align: right;\">\n",
       "      <th></th>\n",
       "      <th>comment_text</th>\n",
       "      <th>toxic</th>\n",
       "      <th>severe_toxic</th>\n",
       "      <th>obscene</th>\n",
       "      <th>threat</th>\n",
       "      <th>insult</th>\n",
       "      <th>identity_hate</th>\n",
       "    </tr>\n",
       "  </thead>\n",
       "  <tbody>\n",
       "    <tr>\n",
       "      <th>0</th>\n",
       "      <td>explanation why the edits made under my userna...</td>\n",
       "      <td>0</td>\n",
       "      <td>0</td>\n",
       "      <td>0</td>\n",
       "      <td>0</td>\n",
       "      <td>0</td>\n",
       "      <td>0</td>\n",
       "    </tr>\n",
       "    <tr>\n",
       "      <th>1</th>\n",
       "      <td>daww he matches this background colour im seem...</td>\n",
       "      <td>0</td>\n",
       "      <td>0</td>\n",
       "      <td>0</td>\n",
       "      <td>0</td>\n",
       "      <td>0</td>\n",
       "      <td>0</td>\n",
       "    </tr>\n",
       "    <tr>\n",
       "      <th>2</th>\n",
       "      <td>hey man im really not trying to edit war its j...</td>\n",
       "      <td>0</td>\n",
       "      <td>0</td>\n",
       "      <td>0</td>\n",
       "      <td>0</td>\n",
       "      <td>0</td>\n",
       "      <td>0</td>\n",
       "    </tr>\n",
       "    <tr>\n",
       "      <th>3</th>\n",
       "      <td>more i cant make any real suggestions on impr...</td>\n",
       "      <td>0</td>\n",
       "      <td>0</td>\n",
       "      <td>0</td>\n",
       "      <td>0</td>\n",
       "      <td>0</td>\n",
       "      <td>0</td>\n",
       "    </tr>\n",
       "    <tr>\n",
       "      <th>4</th>\n",
       "      <td>you sir are my hero any chance you remember wh...</td>\n",
       "      <td>0</td>\n",
       "      <td>0</td>\n",
       "      <td>0</td>\n",
       "      <td>0</td>\n",
       "      <td>0</td>\n",
       "      <td>0</td>\n",
       "    </tr>\n",
       "    <tr>\n",
       "      <th>...</th>\n",
       "      <td>...</td>\n",
       "      <td>...</td>\n",
       "      <td>...</td>\n",
       "      <td>...</td>\n",
       "      <td>...</td>\n",
       "      <td>...</td>\n",
       "      <td>...</td>\n",
       "    </tr>\n",
       "    <tr>\n",
       "      <th>159566</th>\n",
       "      <td>and for the second time of asking when your vi...</td>\n",
       "      <td>0</td>\n",
       "      <td>0</td>\n",
       "      <td>0</td>\n",
       "      <td>0</td>\n",
       "      <td>0</td>\n",
       "      <td>0</td>\n",
       "    </tr>\n",
       "    <tr>\n",
       "      <th>159567</th>\n",
       "      <td>you should be ashamed of yourself   that is a ...</td>\n",
       "      <td>0</td>\n",
       "      <td>0</td>\n",
       "      <td>0</td>\n",
       "      <td>0</td>\n",
       "      <td>0</td>\n",
       "      <td>0</td>\n",
       "    </tr>\n",
       "    <tr>\n",
       "      <th>159568</th>\n",
       "      <td>spitzer   umm theres no actual article for pro...</td>\n",
       "      <td>0</td>\n",
       "      <td>0</td>\n",
       "      <td>0</td>\n",
       "      <td>0</td>\n",
       "      <td>0</td>\n",
       "      <td>0</td>\n",
       "    </tr>\n",
       "    <tr>\n",
       "      <th>159569</th>\n",
       "      <td>and it looks like it was actually you who put ...</td>\n",
       "      <td>0</td>\n",
       "      <td>0</td>\n",
       "      <td>0</td>\n",
       "      <td>0</td>\n",
       "      <td>0</td>\n",
       "      <td>0</td>\n",
       "    </tr>\n",
       "    <tr>\n",
       "      <th>159570</th>\n",
       "      <td>and  i really dont think you understand  i ca...</td>\n",
       "      <td>0</td>\n",
       "      <td>0</td>\n",
       "      <td>0</td>\n",
       "      <td>0</td>\n",
       "      <td>0</td>\n",
       "      <td>0</td>\n",
       "    </tr>\n",
       "  </tbody>\n",
       "</table>\n",
       "<p>159571 rows × 7 columns</p>\n",
       "</div>"
      ],
      "text/plain": [
       "                                             comment_text  toxic  \\\n",
       "0       explanation why the edits made under my userna...      0   \n",
       "1       daww he matches this background colour im seem...      0   \n",
       "2       hey man im really not trying to edit war its j...      0   \n",
       "3        more i cant make any real suggestions on impr...      0   \n",
       "4       you sir are my hero any chance you remember wh...      0   \n",
       "...                                                   ...    ...   \n",
       "159566  and for the second time of asking when your vi...      0   \n",
       "159567  you should be ashamed of yourself   that is a ...      0   \n",
       "159568  spitzer   umm theres no actual article for pro...      0   \n",
       "159569  and it looks like it was actually you who put ...      0   \n",
       "159570   and  i really dont think you understand  i ca...      0   \n",
       "\n",
       "        severe_toxic  obscene  threat  insult  identity_hate  \n",
       "0                  0        0       0       0              0  \n",
       "1                  0        0       0       0              0  \n",
       "2                  0        0       0       0              0  \n",
       "3                  0        0       0       0              0  \n",
       "4                  0        0       0       0              0  \n",
       "...              ...      ...     ...     ...            ...  \n",
       "159566             0        0       0       0              0  \n",
       "159567             0        0       0       0              0  \n",
       "159568             0        0       0       0              0  \n",
       "159569             0        0       0       0              0  \n",
       "159570             0        0       0       0              0  \n",
       "\n",
       "[159571 rows x 7 columns]"
      ]
     },
     "execution_count": 33,
     "metadata": {},
     "output_type": "execute_result"
    }
   ],
   "source": [
    "train "
   ]
  },
  {
   "cell_type": "code",
   "execution_count": 34,
   "id": "enclosed-medicaid",
   "metadata": {
    "execution": {
     "iopub.execute_input": "2021-07-04T14:21:23.953098Z",
     "iopub.status.busy": "2021-07-04T14:21:23.952313Z",
     "iopub.status.idle": "2021-07-04T14:21:23.971714Z",
     "shell.execute_reply": "2021-07-04T14:21:23.970697Z",
     "shell.execute_reply.started": "2021-07-04T13:56:23.746992Z"
    },
    "papermill": {
     "duration": 0.065686,
     "end_time": "2021-07-04T14:21:23.971825",
     "exception": false,
     "start_time": "2021-07-04T14:21:23.906139",
     "status": "completed"
    },
    "tags": []
   },
   "outputs": [],
   "source": [
    "label_cols = ['toxic', 'severe_toxic', 'obscene', 'threat', 'insult', 'identity_hate']\n",
    "train['none'] = 1-train[label_cols].max(axis=1)"
   ]
  },
  {
   "cell_type": "code",
   "execution_count": 35,
   "id": "comprehensive-folder",
   "metadata": {
    "execution": {
     "iopub.execute_input": "2021-07-04T14:21:24.068419Z",
     "iopub.status.busy": "2021-07-04T14:21:24.067589Z",
     "iopub.status.idle": "2021-07-04T14:21:24.071513Z",
     "shell.execute_reply": "2021-07-04T14:21:24.071073Z",
     "shell.execute_reply.started": "2021-07-04T13:57:01.133538Z"
    },
    "papermill": {
     "duration": 0.059686,
     "end_time": "2021-07-04T14:21:24.071622",
     "exception": false,
     "start_time": "2021-07-04T14:21:24.011936",
     "status": "completed"
    },
    "tags": []
   },
   "outputs": [
    {
     "data": {
      "text/html": [
       "<div>\n",
       "<style scoped>\n",
       "    .dataframe tbody tr th:only-of-type {\n",
       "        vertical-align: middle;\n",
       "    }\n",
       "\n",
       "    .dataframe tbody tr th {\n",
       "        vertical-align: top;\n",
       "    }\n",
       "\n",
       "    .dataframe thead th {\n",
       "        text-align: right;\n",
       "    }\n",
       "</style>\n",
       "<table border=\"1\" class=\"dataframe\">\n",
       "  <thead>\n",
       "    <tr style=\"text-align: right;\">\n",
       "      <th></th>\n",
       "      <th>comment_text</th>\n",
       "      <th>toxic</th>\n",
       "      <th>severe_toxic</th>\n",
       "      <th>obscene</th>\n",
       "      <th>threat</th>\n",
       "      <th>insult</th>\n",
       "      <th>identity_hate</th>\n",
       "      <th>none</th>\n",
       "    </tr>\n",
       "  </thead>\n",
       "  <tbody>\n",
       "    <tr>\n",
       "      <th>0</th>\n",
       "      <td>explanation why the edits made under my userna...</td>\n",
       "      <td>0</td>\n",
       "      <td>0</td>\n",
       "      <td>0</td>\n",
       "      <td>0</td>\n",
       "      <td>0</td>\n",
       "      <td>0</td>\n",
       "      <td>1</td>\n",
       "    </tr>\n",
       "    <tr>\n",
       "      <th>1</th>\n",
       "      <td>daww he matches this background colour im seem...</td>\n",
       "      <td>0</td>\n",
       "      <td>0</td>\n",
       "      <td>0</td>\n",
       "      <td>0</td>\n",
       "      <td>0</td>\n",
       "      <td>0</td>\n",
       "      <td>1</td>\n",
       "    </tr>\n",
       "    <tr>\n",
       "      <th>2</th>\n",
       "      <td>hey man im really not trying to edit war its j...</td>\n",
       "      <td>0</td>\n",
       "      <td>0</td>\n",
       "      <td>0</td>\n",
       "      <td>0</td>\n",
       "      <td>0</td>\n",
       "      <td>0</td>\n",
       "      <td>1</td>\n",
       "    </tr>\n",
       "    <tr>\n",
       "      <th>3</th>\n",
       "      <td>more i cant make any real suggestions on impr...</td>\n",
       "      <td>0</td>\n",
       "      <td>0</td>\n",
       "      <td>0</td>\n",
       "      <td>0</td>\n",
       "      <td>0</td>\n",
       "      <td>0</td>\n",
       "      <td>1</td>\n",
       "    </tr>\n",
       "    <tr>\n",
       "      <th>4</th>\n",
       "      <td>you sir are my hero any chance you remember wh...</td>\n",
       "      <td>0</td>\n",
       "      <td>0</td>\n",
       "      <td>0</td>\n",
       "      <td>0</td>\n",
       "      <td>0</td>\n",
       "      <td>0</td>\n",
       "      <td>1</td>\n",
       "    </tr>\n",
       "    <tr>\n",
       "      <th>...</th>\n",
       "      <td>...</td>\n",
       "      <td>...</td>\n",
       "      <td>...</td>\n",
       "      <td>...</td>\n",
       "      <td>...</td>\n",
       "      <td>...</td>\n",
       "      <td>...</td>\n",
       "      <td>...</td>\n",
       "    </tr>\n",
       "    <tr>\n",
       "      <th>159566</th>\n",
       "      <td>and for the second time of asking when your vi...</td>\n",
       "      <td>0</td>\n",
       "      <td>0</td>\n",
       "      <td>0</td>\n",
       "      <td>0</td>\n",
       "      <td>0</td>\n",
       "      <td>0</td>\n",
       "      <td>1</td>\n",
       "    </tr>\n",
       "    <tr>\n",
       "      <th>159567</th>\n",
       "      <td>you should be ashamed of yourself   that is a ...</td>\n",
       "      <td>0</td>\n",
       "      <td>0</td>\n",
       "      <td>0</td>\n",
       "      <td>0</td>\n",
       "      <td>0</td>\n",
       "      <td>0</td>\n",
       "      <td>1</td>\n",
       "    </tr>\n",
       "    <tr>\n",
       "      <th>159568</th>\n",
       "      <td>spitzer   umm theres no actual article for pro...</td>\n",
       "      <td>0</td>\n",
       "      <td>0</td>\n",
       "      <td>0</td>\n",
       "      <td>0</td>\n",
       "      <td>0</td>\n",
       "      <td>0</td>\n",
       "      <td>1</td>\n",
       "    </tr>\n",
       "    <tr>\n",
       "      <th>159569</th>\n",
       "      <td>and it looks like it was actually you who put ...</td>\n",
       "      <td>0</td>\n",
       "      <td>0</td>\n",
       "      <td>0</td>\n",
       "      <td>0</td>\n",
       "      <td>0</td>\n",
       "      <td>0</td>\n",
       "      <td>1</td>\n",
       "    </tr>\n",
       "    <tr>\n",
       "      <th>159570</th>\n",
       "      <td>and  i really dont think you understand  i ca...</td>\n",
       "      <td>0</td>\n",
       "      <td>0</td>\n",
       "      <td>0</td>\n",
       "      <td>0</td>\n",
       "      <td>0</td>\n",
       "      <td>0</td>\n",
       "      <td>1</td>\n",
       "    </tr>\n",
       "  </tbody>\n",
       "</table>\n",
       "<p>159571 rows × 8 columns</p>\n",
       "</div>"
      ],
      "text/plain": [
       "                                             comment_text  toxic  \\\n",
       "0       explanation why the edits made under my userna...      0   \n",
       "1       daww he matches this background colour im seem...      0   \n",
       "2       hey man im really not trying to edit war its j...      0   \n",
       "3        more i cant make any real suggestions on impr...      0   \n",
       "4       you sir are my hero any chance you remember wh...      0   \n",
       "...                                                   ...    ...   \n",
       "159566  and for the second time of asking when your vi...      0   \n",
       "159567  you should be ashamed of yourself   that is a ...      0   \n",
       "159568  spitzer   umm theres no actual article for pro...      0   \n",
       "159569  and it looks like it was actually you who put ...      0   \n",
       "159570   and  i really dont think you understand  i ca...      0   \n",
       "\n",
       "        severe_toxic  obscene  threat  insult  identity_hate  none  \n",
       "0                  0        0       0       0              0     1  \n",
       "1                  0        0       0       0              0     1  \n",
       "2                  0        0       0       0              0     1  \n",
       "3                  0        0       0       0              0     1  \n",
       "4                  0        0       0       0              0     1  \n",
       "...              ...      ...     ...     ...            ...   ...  \n",
       "159566             0        0       0       0              0     1  \n",
       "159567             0        0       0       0              0     1  \n",
       "159568             0        0       0       0              0     1  \n",
       "159569             0        0       0       0              0     1  \n",
       "159570             0        0       0       0              0     1  \n",
       "\n",
       "[159571 rows x 8 columns]"
      ]
     },
     "execution_count": 35,
     "metadata": {},
     "output_type": "execute_result"
    }
   ],
   "source": [
    "train"
   ]
  },
  {
   "cell_type": "code",
   "execution_count": 36,
   "id": "desperate-patient",
   "metadata": {
    "execution": {
     "iopub.execute_input": "2021-07-04T14:21:24.156019Z",
     "iopub.status.busy": "2021-07-04T14:21:24.155281Z",
     "iopub.status.idle": "2021-07-04T14:21:24.158059Z",
     "shell.execute_reply": "2021-07-04T14:21:24.157561Z",
     "shell.execute_reply.started": "2021-07-04T13:59:16.966933Z"
    },
    "papermill": {
     "duration": 0.045759,
     "end_time": "2021-07-04T14:21:24.158160",
     "exception": false,
     "start_time": "2021-07-04T14:21:24.112401",
     "status": "completed"
    },
    "tags": []
   },
   "outputs": [],
   "source": [
    "max_features = 20000\n",
    "maxlen = 200"
   ]
  },
  {
   "cell_type": "code",
   "execution_count": 37,
   "id": "cosmetic-paraguay",
   "metadata": {
    "execution": {
     "iopub.execute_input": "2021-07-04T14:21:24.242655Z",
     "iopub.status.busy": "2021-07-04T14:21:24.241967Z",
     "iopub.status.idle": "2021-07-04T14:21:24.244701Z",
     "shell.execute_reply": "2021-07-04T14:21:24.244256Z",
     "shell.execute_reply.started": "2021-07-04T14:00:41.566510Z"
    },
    "papermill": {
     "duration": 0.046186,
     "end_time": "2021-07-04T14:21:24.244802",
     "exception": false,
     "start_time": "2021-07-04T14:21:24.198616",
     "status": "completed"
    },
    "tags": []
   },
   "outputs": [],
   "source": [
    "list_sentences_train = train[\"comment_text\"].values\n",
    "list_sentences_test = test[\"comment_text\"].values"
   ]
  },
  {
   "cell_type": "code",
   "execution_count": 38,
   "id": "minute-sleeping",
   "metadata": {
    "execution": {
     "iopub.execute_input": "2021-07-04T14:21:24.334345Z",
     "iopub.status.busy": "2021-07-04T14:21:24.332641Z",
     "iopub.status.idle": "2021-07-04T14:21:24.339591Z",
     "shell.execute_reply": "2021-07-04T14:21:24.339146Z",
     "shell.execute_reply.started": "2021-07-04T14:01:20.201821Z"
    },
    "papermill": {
     "duration": 0.053674,
     "end_time": "2021-07-04T14:21:24.339698",
     "exception": false,
     "start_time": "2021-07-04T14:21:24.286024",
     "status": "completed"
    },
    "tags": []
   },
   "outputs": [],
   "source": [
    "y = train[label_cols].values"
   ]
  },
  {
   "cell_type": "code",
   "execution_count": 39,
   "id": "optional-seminar",
   "metadata": {
    "execution": {
     "iopub.execute_input": "2021-07-04T14:21:24.426593Z",
     "iopub.status.busy": "2021-07-04T14:21:24.426063Z",
     "iopub.status.idle": "2021-07-04T14:21:29.215905Z",
     "shell.execute_reply": "2021-07-04T14:21:29.215342Z",
     "shell.execute_reply.started": "2021-07-04T14:02:40.162591Z"
    },
    "papermill": {
     "duration": 4.835092,
     "end_time": "2021-07-04T14:21:29.216026",
     "exception": false,
     "start_time": "2021-07-04T14:21:24.380934",
     "status": "completed"
    },
    "tags": []
   },
   "outputs": [],
   "source": [
    "from keras.models import Model\n",
    "from keras.layers import Dense, Embedding, Input\n",
    "from keras.layers import LSTM, Bidirectional, GlobalMaxPool1D, Dropout\n",
    "from keras.preprocessing import text, sequence\n",
    "from keras.callbacks import EarlyStopping, ModelCheckpoint\n"
   ]
  },
  {
   "cell_type": "code",
   "execution_count": 40,
   "id": "western-polls",
   "metadata": {
    "execution": {
     "iopub.execute_input": "2021-07-04T14:21:29.344473Z",
     "iopub.status.busy": "2021-07-04T14:21:29.329076Z",
     "iopub.status.idle": "2021-07-04T14:21:57.439876Z",
     "shell.execute_reply": "2021-07-04T14:21:57.440287Z",
     "shell.execute_reply.started": "2021-07-04T14:02:44.550465Z"
    },
    "papermill": {
     "duration": 28.182761,
     "end_time": "2021-07-04T14:21:57.440465",
     "exception": false,
     "start_time": "2021-07-04T14:21:29.257704",
     "status": "completed"
    },
    "tags": []
   },
   "outputs": [],
   "source": [
    "tokenizer = text.Tokenizer(num_words=max_features)\n",
    "tokenizer.fit_on_texts(list(list_sentences_train))\n",
    "list_tokenized_train = tokenizer.texts_to_sequences(list_sentences_train)\n",
    "list_tokenized_test = tokenizer.texts_to_sequences(list_sentences_test)\n",
    "X_t = sequence.pad_sequences(list_tokenized_train, maxlen=maxlen)\n",
    "X_te = sequence.pad_sequences(list_tokenized_test, maxlen=maxlen)\n"
   ]
  },
  {
   "cell_type": "code",
   "execution_count": 41,
   "id": "horizontal-credits",
   "metadata": {
    "execution": {
     "iopub.execute_input": "2021-07-04T14:21:57.525227Z",
     "iopub.status.busy": "2021-07-04T14:21:57.524721Z",
     "iopub.status.idle": "2021-07-04T14:21:57.528574Z",
     "shell.execute_reply": "2021-07-04T14:21:57.528156Z",
     "shell.execute_reply.started": "2021-07-04T14:11:20.495272Z"
    },
    "papermill": {
     "duration": 0.047312,
     "end_time": "2021-07-04T14:21:57.528684",
     "exception": false,
     "start_time": "2021-07-04T14:21:57.481372",
     "status": "completed"
    },
    "tags": []
   },
   "outputs": [],
   "source": [
    "output_bias = None"
   ]
  },
  {
   "cell_type": "code",
   "execution_count": 42,
   "id": "closed-differential",
   "metadata": {
    "execution": {
     "iopub.execute_input": "2021-07-04T14:21:57.615999Z",
     "iopub.status.busy": "2021-07-04T14:21:57.615492Z",
     "iopub.status.idle": "2021-07-04T14:22:00.408210Z",
     "shell.execute_reply": "2021-07-04T14:22:00.407765Z",
     "shell.execute_reply.started": "2021-07-04T14:11:22.613633Z"
    },
    "papermill": {
     "duration": 2.839513,
     "end_time": "2021-07-04T14:22:00.408331",
     "exception": false,
     "start_time": "2021-07-04T14:21:57.568818",
     "status": "completed"
    },
    "tags": []
   },
   "outputs": [
    {
     "name": "stdout",
     "output_type": "stream",
     "text": [
      "Model: \"model\"\n",
      "_________________________________________________________________\n",
      "Layer (type)                 Output Shape              Param #   \n",
      "=================================================================\n",
      "input_1 (InputLayer)         [(None, 200)]             0         \n",
      "_________________________________________________________________\n",
      "embedding (Embedding)        (None, 200, 128)          2560000   \n",
      "_________________________________________________________________\n",
      "bidirectional (Bidirectional (None, 200, 100)          71600     \n",
      "_________________________________________________________________\n",
      "global_max_pooling1d (Global (None, 100)               0         \n",
      "_________________________________________________________________\n",
      "dropout (Dropout)            (None, 100)               0         \n",
      "_________________________________________________________________\n",
      "dense (Dense)                (None, 50)                5050      \n",
      "_________________________________________________________________\n",
      "dropout_1 (Dropout)          (None, 50)                0         \n",
      "_________________________________________________________________\n",
      "dense_1 (Dense)              (None, 6)                 306       \n",
      "=================================================================\n",
      "Total params: 2,636,956\n",
      "Trainable params: 2,636,956\n",
      "Non-trainable params: 0\n",
      "_________________________________________________________________\n",
      "None\n"
     ]
    }
   ],
   "source": [
    "\n",
    "def get_model(output_bias=None):\n",
    "    if output_bias is not None:\n",
    "        output_bias = tf.keras.initializers.Constant(output_bias)\n",
    "    embed_size = 128\n",
    "    inp = Input(shape=(maxlen, ))\n",
    "    x = Embedding(max_features, embed_size)(inp)\n",
    "    x = Bidirectional(LSTM(50, return_sequences=True))(x)\n",
    "    x = GlobalMaxPool1D()(x)\n",
    "    x = Dropout(0.1)(x)\n",
    "    x = Dense(50, activation=\"relu\")(x)\n",
    "    x = Dropout(0.1)(x)\n",
    "    x = Dense(6, activation=\"sigmoid\",bias_initializer=output_bias)(x)\n",
    "    model = Model(inputs=inp, outputs=x)\n",
    "    model.compile(loss='binary_crossentropy',\n",
    "                  optimizer='adam',\n",
    "                  metrics=['accuracy'])\n",
    "\n",
    "    return model\n",
    "\n",
    "\n",
    "model = get_model()\n",
    "print(model.summary())\n",
    "batch_size = 32\n",
    "epochs = 2"
   ]
  },
  {
   "cell_type": "code",
   "execution_count": 43,
   "id": "universal-lucas",
   "metadata": {
    "execution": {
     "iopub.execute_input": "2021-07-04T14:22:00.496052Z",
     "iopub.status.busy": "2021-07-04T14:22:00.495482Z",
     "iopub.status.idle": "2021-07-04T14:29:29.924644Z",
     "shell.execute_reply": "2021-07-04T14:29:29.923684Z"
    },
    "papermill": {
     "duration": 449.475291,
     "end_time": "2021-07-04T14:29:29.924795",
     "exception": false,
     "start_time": "2021-07-04T14:22:00.449504",
     "status": "completed"
    },
    "tags": []
   },
   "outputs": [
    {
     "name": "stdout",
     "output_type": "stream",
     "text": [
      "Epoch 1/2\n",
      "4488/4488 [==============================] - 208s 45ms/step - loss: 0.0898 - accuracy: 0.8818 - val_loss: 0.0504 - val_accuracy: 0.9939\n",
      "\n",
      "Epoch 00001: val_loss improved from inf to 0.05043, saving model to weights_base.best.hdf5\n",
      "Epoch 2/2\n",
      "4488/4488 [==============================] - 199s 44ms/step - loss: 0.0453 - accuracy: 0.9885 - val_loss: 0.0487 - val_accuracy: 0.9937\n",
      "\n",
      "Epoch 00002: val_loss improved from 0.05043 to 0.04871, saving model to weights_base.best.hdf5\n"
     ]
    }
   ],
   "source": [
    "\n",
    "\n",
    "file_path=\"weights_base.best.hdf5\"\n",
    "checkpoint = ModelCheckpoint(file_path, monitor='val_loss', verbose=1, save_best_only=True, mode='min')\n",
    "\n",
    "early = EarlyStopping(monitor=\"val_loss\", mode=\"min\", patience=20)\n",
    "\n",
    "\n",
    "callbacks_list = [checkpoint, early] #early\n",
    "model.fit(X_t, y, batch_size=batch_size, epochs=epochs, validation_split=0.1, callbacks=callbacks_list)\n",
    "\n",
    "model.load_weights(file_path)\n",
    "\n",
    "y_test = model.predict(X_te)\n",
    "\n",
    "\n",
    "\n",
    "sample_submission = pd.read_csv(\"../input/jigsaw-toxic-comment-classification-challenge/sample_submission.csv.zip\")\n",
    "\n",
    "sample_submission[label_cols] = y_test\n",
    "\n",
    "\n",
    "\n",
    "sample_submission.to_csv(\"baseline.csv\", index=False)"
   ]
  },
  {
   "cell_type": "code",
   "execution_count": null,
   "id": "quantitative-contest",
   "metadata": {
    "papermill": {
     "duration": 1.244121,
     "end_time": "2021-07-04T14:29:32.409066",
     "exception": false,
     "start_time": "2021-07-04T14:29:31.164945",
     "status": "completed"
    },
    "tags": []
   },
   "outputs": [],
   "source": []
  },
  {
   "cell_type": "code",
   "execution_count": null,
   "id": "elementary-geneva",
   "metadata": {
    "papermill": {
     "duration": 1.256747,
     "end_time": "2021-07-04T14:29:34.929064",
     "exception": false,
     "start_time": "2021-07-04T14:29:33.672317",
     "status": "completed"
    },
    "tags": []
   },
   "outputs": [],
   "source": []
  },
  {
   "cell_type": "code",
   "execution_count": null,
   "id": "controlling-somewhere",
   "metadata": {
    "papermill": {
     "duration": 1.241586,
     "end_time": "2021-07-04T14:29:37.448844",
     "exception": false,
     "start_time": "2021-07-04T14:29:36.207258",
     "status": "completed"
    },
    "tags": []
   },
   "outputs": [],
   "source": []
  },
  {
   "cell_type": "code",
   "execution_count": null,
   "id": "behavioral-asthma",
   "metadata": {
    "papermill": {
     "duration": 1.246074,
     "end_time": "2021-07-04T14:29:39.947130",
     "exception": false,
     "start_time": "2021-07-04T14:29:38.701056",
     "status": "completed"
    },
    "tags": []
   },
   "outputs": [],
   "source": []
  }
 ],
 "metadata": {
  "kernelspec": {
   "display_name": "Python 3",
   "language": "python",
   "name": "python3"
  },
  "language_info": {
   "codemirror_mode": {
    "name": "ipython",
    "version": 3
   },
   "file_extension": ".py",
   "mimetype": "text/x-python",
   "name": "python",
   "nbconvert_exporter": "python",
   "pygments_lexer": "ipython3",
   "version": "3.7.10"
  },
  "papermill": {
   "default_parameters": {},
   "duration": 565.104934,
   "end_time": "2021-07-04T14:29:44.312163",
   "environment_variables": {},
   "exception": null,
   "input_path": "__notebook__.ipynb",
   "output_path": "__notebook__.ipynb",
   "parameters": {},
   "start_time": "2021-07-04T14:20:19.207229",
   "version": "2.3.3"
  }
 },
 "nbformat": 4,
 "nbformat_minor": 5
}
