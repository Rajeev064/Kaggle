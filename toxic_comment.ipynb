{
  "nbformat": 4,
  "nbformat_minor": 5,
  "metadata": {
    "kernelspec": {
      "display_name": "Python 3",
      "language": "python",
      "name": "python3"
    },
    "language_info": {
      "codemirror_mode": {
        "name": "ipython",
        "version": 3
      },
      "file_extension": ".py",
      "mimetype": "text/x-python",
      "name": "python",
      "nbconvert_exporter": "python",
      "pygments_lexer": "ipython3",
      "version": "3.7.10"
    },
    "papermill": {
      "default_parameters": {},
      "duration": 69.699915,
      "end_time": "2021-07-03T17:36:28.763715",
      "environment_variables": {},
      "exception": true,
      "input_path": "__notebook__.ipynb",
      "output_path": "__notebook__.ipynb",
      "parameters": {},
      "start_time": "2021-07-03T17:35:19.063800",
      "version": "2.3.3"
    },
    "colab": {
      "name": "toxic-comment.ipynb",
      "provenance": [],
      "include_colab_link": true
    }
  },
  "cells": [
    {
      "cell_type": "markdown",
      "metadata": {
        "id": "view-in-github",
        "colab_type": "text"
      },
      "source": [
        "<a href=\"https://colab.research.google.com/github/Rajeev064/Toxic-Comment-Classification/blob/main/toxic_comment.ipynb\" target=\"_parent\"><img src=\"https://colab.research.google.com/assets/colab-badge.svg\" alt=\"Open In Colab\"/></a>"
      ]
    },
    {
      "cell_type": "code",
      "metadata": {
        "_cell_guid": "b1076dfc-b9ad-4769-8c92-a6c4dae69d19",
        "_uuid": "8f2839f25d086af736a60e9eeb907d3b93b6e0e5",
        "execution": {
          "iopub.execute_input": "2021-07-03T17:35:25.625491Z",
          "iopub.status.busy": "2021-07-03T17:35:25.623911Z",
          "iopub.status.idle": "2021-07-03T17:35:25.637044Z",
          "shell.execute_reply": "2021-07-03T17:35:25.636361Z",
          "shell.execute_reply.started": "2021-07-03T17:18:46.746842Z"
        },
        "papermill": {
          "duration": 0.044077,
          "end_time": "2021-07-03T17:35:25.637220",
          "exception": false,
          "start_time": "2021-07-03T17:35:25.593143",
          "status": "completed"
        },
        "tags": [],
        "id": "transparent-clothing",
        "outputId": "5ca99f3d-5073-4152-b281-23a29ca770e5"
      },
      "source": [
        "# This Python 3 environment comes with many helpful analytics libraries installed\n",
        "# It is defined by the kaggle/python Docker image: https://github.com/kaggle/docker-python\n",
        "# For example, here's several helpful packages to load\n",
        "\n",
        "import numpy as np # linear algebra\n",
        "import pandas as pd # data processing, CSV file I/O (e.g. pd.read_csv)\n",
        "\n",
        "# Input data files are available in the read-only \"../input/\" directory\n",
        "# For example, running this (by clicking run or pressing Shift+Enter) will list all files under the input directory\n",
        "\n",
        "import os\n",
        "for dirname, _, filenames in os.walk('/kaggle/input'):\n",
        "    for filename in filenames:\n",
        "        print(os.path.join(dirname, filename))\n",
        "\n",
        "# You can write up to 20GB to the current directory (/kaggle/working/) that gets preserved as output when you create a version using \"Save & Run All\" \n",
        "# You can also write temporary files to /kaggle/temp/, but they won't be saved outside of the current session"
      ],
      "id": "transparent-clothing",
      "execution_count": null,
      "outputs": [
        {
          "output_type": "stream",
          "text": [
            "/kaggle/input/jigsaw-toxic-comment-classification-challenge/train.csv.zip\n",
            "/kaggle/input/jigsaw-toxic-comment-classification-challenge/sample_submission.csv.zip\n",
            "/kaggle/input/jigsaw-toxic-comment-classification-challenge/test_labels.csv.zip\n",
            "/kaggle/input/jigsaw-toxic-comment-classification-challenge/test.csv.zip\n"
          ],
          "name": "stdout"
        }
      ]
    },
    {
      "cell_type": "code",
      "metadata": {
        "execution": {
          "iopub.execute_input": "2021-07-03T17:35:25.694902Z",
          "iopub.status.busy": "2021-07-03T17:35:25.694419Z",
          "iopub.status.idle": "2021-07-03T17:35:26.377926Z",
          "shell.execute_reply": "2021-07-03T17:35:26.378563Z",
          "shell.execute_reply.started": "2021-07-03T17:18:46.772296Z"
        },
        "papermill": {
          "duration": 0.713806,
          "end_time": "2021-07-03T17:35:26.378715",
          "exception": false,
          "start_time": "2021-07-03T17:35:25.664909",
          "status": "completed"
        },
        "tags": [],
        "id": "golden-blowing"
      },
      "source": [
        "import pandas as pd\n",
        "import numpy as np\n",
        "import matplotlib.pyplot as plt\n",
        "import seaborn as sns"
      ],
      "id": "golden-blowing",
      "execution_count": null,
      "outputs": []
    },
    {
      "cell_type": "code",
      "metadata": {
        "execution": {
          "iopub.execute_input": "2021-07-03T17:35:26.463698Z",
          "iopub.status.busy": "2021-07-03T17:35:26.463196Z",
          "iopub.status.idle": "2021-07-03T17:35:26.571249Z",
          "shell.execute_reply": "2021-07-03T17:35:26.572372Z",
          "shell.execute_reply.started": "2021-07-03T17:18:47.687050Z"
        },
        "papermill": {
          "duration": 0.146941,
          "end_time": "2021-07-03T17:35:26.572578",
          "exception": false,
          "start_time": "2021-07-03T17:35:26.425637",
          "status": "completed"
        },
        "tags": [],
        "id": "steady-commitment"
      },
      "source": [
        "import zipfile\n",
        "\n",
        "z= zipfile.ZipFile('../input/jigsaw-toxic-comment-classification-challenge/sample_submission.csv.zip')\n",
        "z.extractall()"
      ],
      "id": "steady-commitment",
      "execution_count": null,
      "outputs": []
    },
    {
      "cell_type": "code",
      "metadata": {
        "execution": {
          "iopub.execute_input": "2021-07-03T17:35:26.642274Z",
          "iopub.status.busy": "2021-07-03T17:35:26.641714Z",
          "iopub.status.idle": "2021-07-03T17:35:29.504027Z",
          "shell.execute_reply": "2021-07-03T17:35:29.503566Z",
          "shell.execute_reply.started": "2021-07-03T17:18:47.801254Z"
        },
        "papermill": {
          "duration": 2.89242,
          "end_time": "2021-07-03T17:35:29.504201",
          "exception": false,
          "start_time": "2021-07-03T17:35:26.611781",
          "status": "completed"
        },
        "tags": [],
        "id": "worse-customs"
      },
      "source": [
        "train = pd.read_csv('../input/jigsaw-toxic-comment-classification-challenge/train.csv.zip')\n",
        "test = pd.read_csv('../input/jigsaw-toxic-comment-classification-challenge/test.csv.zip')"
      ],
      "id": "worse-customs",
      "execution_count": null,
      "outputs": []
    },
    {
      "cell_type": "code",
      "metadata": {
        "execution": {
          "iopub.execute_input": "2021-07-03T17:35:29.562926Z",
          "iopub.status.busy": "2021-07-03T17:35:29.562400Z",
          "iopub.status.idle": "2021-07-03T17:35:29.566222Z",
          "shell.execute_reply": "2021-07-03T17:35:29.565799Z",
          "shell.execute_reply.started": "2021-07-03T17:18:51.699261Z"
        },
        "papermill": {
          "duration": 0.034199,
          "end_time": "2021-07-03T17:35:29.566329",
          "exception": false,
          "start_time": "2021-07-03T17:35:29.532130",
          "status": "completed"
        },
        "tags": [],
        "id": "handed-westminster"
      },
      "source": [
        "cols_target = ['obscene','insult','toxic','severe_toxic','identity_hate','threat']"
      ],
      "id": "handed-westminster",
      "execution_count": null,
      "outputs": []
    },
    {
      "cell_type": "code",
      "metadata": {
        "execution": {
          "iopub.execute_input": "2021-07-03T17:35:29.635820Z",
          "iopub.status.busy": "2021-07-03T17:35:29.633209Z",
          "iopub.status.idle": "2021-07-03T17:35:29.644312Z",
          "shell.execute_reply": "2021-07-03T17:35:29.644729Z",
          "shell.execute_reply.started": "2021-07-03T17:18:51.707150Z"
        },
        "papermill": {
          "duration": 0.051743,
          "end_time": "2021-07-03T17:35:29.644849",
          "exception": false,
          "start_time": "2021-07-03T17:35:29.593106",
          "status": "completed"
        },
        "tags": [],
        "id": "favorite-drama",
        "outputId": "273538e5-8974-408d-db7d-71b936306f70"
      },
      "source": [
        "train.head()"
      ],
      "id": "favorite-drama",
      "execution_count": null,
      "outputs": [
        {
          "output_type": "execute_result",
          "data": {
            "text/html": [
              "<div>\n",
              "<style scoped>\n",
              "    .dataframe tbody tr th:only-of-type {\n",
              "        vertical-align: middle;\n",
              "    }\n",
              "\n",
              "    .dataframe tbody tr th {\n",
              "        vertical-align: top;\n",
              "    }\n",
              "\n",
              "    .dataframe thead th {\n",
              "        text-align: right;\n",
              "    }\n",
              "</style>\n",
              "<table border=\"1\" class=\"dataframe\">\n",
              "  <thead>\n",
              "    <tr style=\"text-align: right;\">\n",
              "      <th></th>\n",
              "      <th>id</th>\n",
              "      <th>comment_text</th>\n",
              "      <th>toxic</th>\n",
              "      <th>severe_toxic</th>\n",
              "      <th>obscene</th>\n",
              "      <th>threat</th>\n",
              "      <th>insult</th>\n",
              "      <th>identity_hate</th>\n",
              "    </tr>\n",
              "  </thead>\n",
              "  <tbody>\n",
              "    <tr>\n",
              "      <th>0</th>\n",
              "      <td>0000997932d777bf</td>\n",
              "      <td>Explanation\\nWhy the edits made under my usern...</td>\n",
              "      <td>0</td>\n",
              "      <td>0</td>\n",
              "      <td>0</td>\n",
              "      <td>0</td>\n",
              "      <td>0</td>\n",
              "      <td>0</td>\n",
              "    </tr>\n",
              "    <tr>\n",
              "      <th>1</th>\n",
              "      <td>000103f0d9cfb60f</td>\n",
              "      <td>D'aww! He matches this background colour I'm s...</td>\n",
              "      <td>0</td>\n",
              "      <td>0</td>\n",
              "      <td>0</td>\n",
              "      <td>0</td>\n",
              "      <td>0</td>\n",
              "      <td>0</td>\n",
              "    </tr>\n",
              "    <tr>\n",
              "      <th>2</th>\n",
              "      <td>000113f07ec002fd</td>\n",
              "      <td>Hey man, I'm really not trying to edit war. It...</td>\n",
              "      <td>0</td>\n",
              "      <td>0</td>\n",
              "      <td>0</td>\n",
              "      <td>0</td>\n",
              "      <td>0</td>\n",
              "      <td>0</td>\n",
              "    </tr>\n",
              "    <tr>\n",
              "      <th>3</th>\n",
              "      <td>0001b41b1c6bb37e</td>\n",
              "      <td>\"\\nMore\\nI can't make any real suggestions on ...</td>\n",
              "      <td>0</td>\n",
              "      <td>0</td>\n",
              "      <td>0</td>\n",
              "      <td>0</td>\n",
              "      <td>0</td>\n",
              "      <td>0</td>\n",
              "    </tr>\n",
              "    <tr>\n",
              "      <th>4</th>\n",
              "      <td>0001d958c54c6e35</td>\n",
              "      <td>You, sir, are my hero. Any chance you remember...</td>\n",
              "      <td>0</td>\n",
              "      <td>0</td>\n",
              "      <td>0</td>\n",
              "      <td>0</td>\n",
              "      <td>0</td>\n",
              "      <td>0</td>\n",
              "    </tr>\n",
              "  </tbody>\n",
              "</table>\n",
              "</div>"
            ],
            "text/plain": [
              "                 id                                       comment_text  toxic  \\\n",
              "0  0000997932d777bf  Explanation\\nWhy the edits made under my usern...      0   \n",
              "1  000103f0d9cfb60f  D'aww! He matches this background colour I'm s...      0   \n",
              "2  000113f07ec002fd  Hey man, I'm really not trying to edit war. It...      0   \n",
              "3  0001b41b1c6bb37e  \"\\nMore\\nI can't make any real suggestions on ...      0   \n",
              "4  0001d958c54c6e35  You, sir, are my hero. Any chance you remember...      0   \n",
              "\n",
              "   severe_toxic  obscene  threat  insult  identity_hate  \n",
              "0             0        0       0       0              0  \n",
              "1             0        0       0       0              0  \n",
              "2             0        0       0       0              0  \n",
              "3             0        0       0       0              0  \n",
              "4             0        0       0       0              0  "
            ]
          },
          "metadata": {
            "tags": []
          },
          "execution_count": 6
        }
      ]
    },
    {
      "cell_type": "code",
      "metadata": {
        "execution": {
          "iopub.execute_input": "2021-07-03T17:35:29.735175Z",
          "iopub.status.busy": "2021-07-03T17:35:29.734135Z",
          "iopub.status.idle": "2021-07-03T17:35:29.741963Z",
          "shell.execute_reply": "2021-07-03T17:35:29.742385Z",
          "shell.execute_reply.started": "2021-07-03T17:18:51.747411Z"
        },
        "papermill": {
          "duration": 0.070527,
          "end_time": "2021-07-03T17:35:29.742504",
          "exception": false,
          "start_time": "2021-07-03T17:35:29.671977",
          "status": "completed"
        },
        "tags": [],
        "id": "sapphire-sussex",
        "outputId": "9b0b4fe0-093a-43a9-fbb7-1bf74b7ad2a7"
      },
      "source": [
        "train.isnull().sum()"
      ],
      "id": "sapphire-sussex",
      "execution_count": null,
      "outputs": [
        {
          "output_type": "execute_result",
          "data": {
            "text/plain": [
              "id               0\n",
              "comment_text     0\n",
              "toxic            0\n",
              "severe_toxic     0\n",
              "obscene          0\n",
              "threat           0\n",
              "insult           0\n",
              "identity_hate    0\n",
              "dtype: int64"
            ]
          },
          "metadata": {
            "tags": []
          },
          "execution_count": 7
        }
      ]
    },
    {
      "cell_type": "code",
      "metadata": {
        "execution": {
          "iopub.execute_input": "2021-07-03T17:35:29.808904Z",
          "iopub.status.busy": "2021-07-03T17:35:29.808034Z",
          "iopub.status.idle": "2021-07-03T17:35:29.848356Z",
          "shell.execute_reply": "2021-07-03T17:35:29.847928Z",
          "shell.execute_reply.started": "2021-07-03T17:18:51.802542Z"
        },
        "papermill": {
          "duration": 0.078621,
          "end_time": "2021-07-03T17:35:29.848471",
          "exception": false,
          "start_time": "2021-07-03T17:35:29.769850",
          "status": "completed"
        },
        "tags": [],
        "id": "center-demonstration",
        "outputId": "79313781-e96e-4e11-e18d-84164140ddcf"
      },
      "source": [
        "train.describe()"
      ],
      "id": "center-demonstration",
      "execution_count": null,
      "outputs": [
        {
          "output_type": "execute_result",
          "data": {
            "text/html": [
              "<div>\n",
              "<style scoped>\n",
              "    .dataframe tbody tr th:only-of-type {\n",
              "        vertical-align: middle;\n",
              "    }\n",
              "\n",
              "    .dataframe tbody tr th {\n",
              "        vertical-align: top;\n",
              "    }\n",
              "\n",
              "    .dataframe thead th {\n",
              "        text-align: right;\n",
              "    }\n",
              "</style>\n",
              "<table border=\"1\" class=\"dataframe\">\n",
              "  <thead>\n",
              "    <tr style=\"text-align: right;\">\n",
              "      <th></th>\n",
              "      <th>toxic</th>\n",
              "      <th>severe_toxic</th>\n",
              "      <th>obscene</th>\n",
              "      <th>threat</th>\n",
              "      <th>insult</th>\n",
              "      <th>identity_hate</th>\n",
              "    </tr>\n",
              "  </thead>\n",
              "  <tbody>\n",
              "    <tr>\n",
              "      <th>count</th>\n",
              "      <td>159571.000000</td>\n",
              "      <td>159571.000000</td>\n",
              "      <td>159571.000000</td>\n",
              "      <td>159571.000000</td>\n",
              "      <td>159571.000000</td>\n",
              "      <td>159571.000000</td>\n",
              "    </tr>\n",
              "    <tr>\n",
              "      <th>mean</th>\n",
              "      <td>0.095844</td>\n",
              "      <td>0.009996</td>\n",
              "      <td>0.052948</td>\n",
              "      <td>0.002996</td>\n",
              "      <td>0.049364</td>\n",
              "      <td>0.008805</td>\n",
              "    </tr>\n",
              "    <tr>\n",
              "      <th>std</th>\n",
              "      <td>0.294379</td>\n",
              "      <td>0.099477</td>\n",
              "      <td>0.223931</td>\n",
              "      <td>0.054650</td>\n",
              "      <td>0.216627</td>\n",
              "      <td>0.093420</td>\n",
              "    </tr>\n",
              "    <tr>\n",
              "      <th>min</th>\n",
              "      <td>0.000000</td>\n",
              "      <td>0.000000</td>\n",
              "      <td>0.000000</td>\n",
              "      <td>0.000000</td>\n",
              "      <td>0.000000</td>\n",
              "      <td>0.000000</td>\n",
              "    </tr>\n",
              "    <tr>\n",
              "      <th>25%</th>\n",
              "      <td>0.000000</td>\n",
              "      <td>0.000000</td>\n",
              "      <td>0.000000</td>\n",
              "      <td>0.000000</td>\n",
              "      <td>0.000000</td>\n",
              "      <td>0.000000</td>\n",
              "    </tr>\n",
              "    <tr>\n",
              "      <th>50%</th>\n",
              "      <td>0.000000</td>\n",
              "      <td>0.000000</td>\n",
              "      <td>0.000000</td>\n",
              "      <td>0.000000</td>\n",
              "      <td>0.000000</td>\n",
              "      <td>0.000000</td>\n",
              "    </tr>\n",
              "    <tr>\n",
              "      <th>75%</th>\n",
              "      <td>0.000000</td>\n",
              "      <td>0.000000</td>\n",
              "      <td>0.000000</td>\n",
              "      <td>0.000000</td>\n",
              "      <td>0.000000</td>\n",
              "      <td>0.000000</td>\n",
              "    </tr>\n",
              "    <tr>\n",
              "      <th>max</th>\n",
              "      <td>1.000000</td>\n",
              "      <td>1.000000</td>\n",
              "      <td>1.000000</td>\n",
              "      <td>1.000000</td>\n",
              "      <td>1.000000</td>\n",
              "      <td>1.000000</td>\n",
              "    </tr>\n",
              "  </tbody>\n",
              "</table>\n",
              "</div>"
            ],
            "text/plain": [
              "               toxic   severe_toxic        obscene         threat  \\\n",
              "count  159571.000000  159571.000000  159571.000000  159571.000000   \n",
              "mean        0.095844       0.009996       0.052948       0.002996   \n",
              "std         0.294379       0.099477       0.223931       0.054650   \n",
              "min         0.000000       0.000000       0.000000       0.000000   \n",
              "25%         0.000000       0.000000       0.000000       0.000000   \n",
              "50%         0.000000       0.000000       0.000000       0.000000   \n",
              "75%         0.000000       0.000000       0.000000       0.000000   \n",
              "max         1.000000       1.000000       1.000000       1.000000   \n",
              "\n",
              "              insult  identity_hate  \n",
              "count  159571.000000  159571.000000  \n",
              "mean        0.049364       0.008805  \n",
              "std         0.216627       0.093420  \n",
              "min         0.000000       0.000000  \n",
              "25%         0.000000       0.000000  \n",
              "50%         0.000000       0.000000  \n",
              "75%         0.000000       0.000000  \n",
              "max         1.000000       1.000000  "
            ]
          },
          "metadata": {
            "tags": []
          },
          "execution_count": 8
        }
      ]
    },
    {
      "cell_type": "code",
      "metadata": {
        "execution": {
          "iopub.execute_input": "2021-07-03T17:35:29.916359Z",
          "iopub.status.busy": "2021-07-03T17:35:29.915730Z",
          "iopub.status.idle": "2021-07-03T17:35:29.919255Z",
          "shell.execute_reply": "2021-07-03T17:35:29.918840Z",
          "shell.execute_reply.started": "2021-07-03T17:18:51.866862Z"
        },
        "papermill": {
          "duration": 0.041095,
          "end_time": "2021-07-03T17:35:29.919360",
          "exception": false,
          "start_time": "2021-07-03T17:35:29.878265",
          "status": "completed"
        },
        "tags": [],
        "id": "amateur-sauce"
      },
      "source": [
        "#we dont have to use id here\n",
        "train.drop(['id'],axis=1,inplace=True)"
      ],
      "id": "amateur-sauce",
      "execution_count": null,
      "outputs": []
    },
    {
      "cell_type": "code",
      "metadata": {
        "execution": {
          "iopub.execute_input": "2021-07-03T17:35:29.983463Z",
          "iopub.status.busy": "2021-07-03T17:35:29.982803Z",
          "iopub.status.idle": "2021-07-03T17:35:29.987519Z",
          "shell.execute_reply": "2021-07-03T17:35:29.987129Z",
          "shell.execute_reply.started": "2021-07-03T17:18:51.883087Z"
        },
        "papermill": {
          "duration": 0.040525,
          "end_time": "2021-07-03T17:35:29.987619",
          "exception": false,
          "start_time": "2021-07-03T17:35:29.947094",
          "status": "completed"
        },
        "tags": [],
        "id": "nervous-lender",
        "outputId": "a878c504-015d-482c-e685-789c6b9f7998"
      },
      "source": [
        "train.head()"
      ],
      "id": "nervous-lender",
      "execution_count": null,
      "outputs": [
        {
          "output_type": "execute_result",
          "data": {
            "text/html": [
              "<div>\n",
              "<style scoped>\n",
              "    .dataframe tbody tr th:only-of-type {\n",
              "        vertical-align: middle;\n",
              "    }\n",
              "\n",
              "    .dataframe tbody tr th {\n",
              "        vertical-align: top;\n",
              "    }\n",
              "\n",
              "    .dataframe thead th {\n",
              "        text-align: right;\n",
              "    }\n",
              "</style>\n",
              "<table border=\"1\" class=\"dataframe\">\n",
              "  <thead>\n",
              "    <tr style=\"text-align: right;\">\n",
              "      <th></th>\n",
              "      <th>comment_text</th>\n",
              "      <th>toxic</th>\n",
              "      <th>severe_toxic</th>\n",
              "      <th>obscene</th>\n",
              "      <th>threat</th>\n",
              "      <th>insult</th>\n",
              "      <th>identity_hate</th>\n",
              "    </tr>\n",
              "  </thead>\n",
              "  <tbody>\n",
              "    <tr>\n",
              "      <th>0</th>\n",
              "      <td>Explanation\\nWhy the edits made under my usern...</td>\n",
              "      <td>0</td>\n",
              "      <td>0</td>\n",
              "      <td>0</td>\n",
              "      <td>0</td>\n",
              "      <td>0</td>\n",
              "      <td>0</td>\n",
              "    </tr>\n",
              "    <tr>\n",
              "      <th>1</th>\n",
              "      <td>D'aww! He matches this background colour I'm s...</td>\n",
              "      <td>0</td>\n",
              "      <td>0</td>\n",
              "      <td>0</td>\n",
              "      <td>0</td>\n",
              "      <td>0</td>\n",
              "      <td>0</td>\n",
              "    </tr>\n",
              "    <tr>\n",
              "      <th>2</th>\n",
              "      <td>Hey man, I'm really not trying to edit war. It...</td>\n",
              "      <td>0</td>\n",
              "      <td>0</td>\n",
              "      <td>0</td>\n",
              "      <td>0</td>\n",
              "      <td>0</td>\n",
              "      <td>0</td>\n",
              "    </tr>\n",
              "    <tr>\n",
              "      <th>3</th>\n",
              "      <td>\"\\nMore\\nI can't make any real suggestions on ...</td>\n",
              "      <td>0</td>\n",
              "      <td>0</td>\n",
              "      <td>0</td>\n",
              "      <td>0</td>\n",
              "      <td>0</td>\n",
              "      <td>0</td>\n",
              "    </tr>\n",
              "    <tr>\n",
              "      <th>4</th>\n",
              "      <td>You, sir, are my hero. Any chance you remember...</td>\n",
              "      <td>0</td>\n",
              "      <td>0</td>\n",
              "      <td>0</td>\n",
              "      <td>0</td>\n",
              "      <td>0</td>\n",
              "      <td>0</td>\n",
              "    </tr>\n",
              "  </tbody>\n",
              "</table>\n",
              "</div>"
            ],
            "text/plain": [
              "                                        comment_text  toxic  severe_toxic  \\\n",
              "0  Explanation\\nWhy the edits made under my usern...      0             0   \n",
              "1  D'aww! He matches this background colour I'm s...      0             0   \n",
              "2  Hey man, I'm really not trying to edit war. It...      0             0   \n",
              "3  \"\\nMore\\nI can't make any real suggestions on ...      0             0   \n",
              "4  You, sir, are my hero. Any chance you remember...      0             0   \n",
              "\n",
              "   obscene  threat  insult  identity_hate  \n",
              "0        0       0       0              0  \n",
              "1        0       0       0              0  \n",
              "2        0       0       0              0  \n",
              "3        0       0       0              0  \n",
              "4        0       0       0              0  "
            ]
          },
          "metadata": {
            "tags": []
          },
          "execution_count": 10
        }
      ]
    },
    {
      "cell_type": "code",
      "metadata": {
        "execution": {
          "iopub.execute_input": "2021-07-03T17:35:30.047813Z",
          "iopub.status.busy": "2021-07-03T17:35:30.047330Z",
          "iopub.status.idle": "2021-07-03T17:35:30.052735Z",
          "shell.execute_reply": "2021-07-03T17:35:30.053116Z",
          "shell.execute_reply.started": "2021-07-03T17:18:51.903077Z"
        },
        "papermill": {
          "duration": 0.037359,
          "end_time": "2021-07-03T17:35:30.053234",
          "exception": false,
          "start_time": "2021-07-03T17:35:30.015875",
          "status": "completed"
        },
        "tags": [],
        "id": "chemical-support",
        "outputId": "d8029d07-b863-4b24-d4ae-eb8a42f28934"
      },
      "source": [
        "train.shape"
      ],
      "id": "chemical-support",
      "execution_count": null,
      "outputs": [
        {
          "output_type": "execute_result",
          "data": {
            "text/plain": [
              "(159571, 7)"
            ]
          },
          "metadata": {
            "tags": []
          },
          "execution_count": 11
        }
      ]
    },
    {
      "cell_type": "code",
      "metadata": {
        "execution": {
          "iopub.execute_input": "2021-07-03T17:35:30.115647Z",
          "iopub.status.busy": "2021-07-03T17:35:30.115010Z",
          "iopub.status.idle": "2021-07-03T17:35:30.117800Z",
          "shell.execute_reply": "2021-07-03T17:35:30.117410Z",
          "shell.execute_reply.started": "2021-07-03T17:18:51.915958Z"
        },
        "papermill": {
          "duration": 0.034561,
          "end_time": "2021-07-03T17:35:30.117898",
          "exception": false,
          "start_time": "2021-07-03T17:35:30.083337",
          "status": "completed"
        },
        "tags": [],
        "id": "hundred-catholic"
      },
      "source": [
        "import re"
      ],
      "id": "hundred-catholic",
      "execution_count": null,
      "outputs": []
    },
    {
      "cell_type": "code",
      "metadata": {
        "execution": {
          "iopub.execute_input": "2021-07-03T17:35:30.181291Z",
          "iopub.status.busy": "2021-07-03T17:35:30.178452Z",
          "iopub.status.idle": "2021-07-03T17:35:30.353692Z",
          "shell.execute_reply": "2021-07-03T17:35:30.353238Z",
          "shell.execute_reply.started": "2021-07-03T17:18:51.925574Z"
        },
        "papermill": {
          "duration": 0.207506,
          "end_time": "2021-07-03T17:35:30.353814",
          "exception": false,
          "start_time": "2021-07-03T17:35:30.146308",
          "status": "completed"
        },
        "tags": [],
        "id": "stuffed-onion"
      },
      "source": [
        "train[\"comment_text\"]=train[\"comment_text\"].apply(lambda x: x.lower())"
      ],
      "id": "stuffed-onion",
      "execution_count": null,
      "outputs": []
    },
    {
      "cell_type": "code",
      "metadata": {
        "execution": {
          "iopub.execute_input": "2021-07-03T17:35:30.417134Z",
          "iopub.status.busy": "2021-07-03T17:35:30.416408Z",
          "iopub.status.idle": "2021-07-03T17:35:45.549187Z",
          "shell.execute_reply": "2021-07-03T17:35:45.548295Z",
          "shell.execute_reply.started": "2021-07-03T17:18:52.139765Z"
        },
        "papermill": {
          "duration": 15.166624,
          "end_time": "2021-07-03T17:35:45.549329",
          "exception": false,
          "start_time": "2021-07-03T17:35:30.382705",
          "status": "completed"
        },
        "tags": [],
        "id": "mexican-malpractice"
      },
      "source": [
        "train[\"comment_text\"]=train[\"comment_text\"].apply(lambda x: re.sub('\\w*\\d\\w*','', x))"
      ],
      "id": "mexican-malpractice",
      "execution_count": null,
      "outputs": []
    },
    {
      "cell_type": "code",
      "metadata": {
        "execution": {
          "iopub.execute_input": "2021-07-03T17:35:45.613976Z",
          "iopub.status.busy": "2021-07-03T17:35:45.613294Z",
          "iopub.status.idle": "2021-07-03T17:35:45.616115Z",
          "shell.execute_reply": "2021-07-03T17:35:45.616514Z",
          "shell.execute_reply.started": "2021-07-03T17:28:09.800504Z"
        },
        "papermill": {
          "duration": 0.037778,
          "end_time": "2021-07-03T17:35:45.616636",
          "exception": false,
          "start_time": "2021-07-03T17:35:45.578858",
          "status": "completed"
        },
        "tags": [],
        "id": "experienced-manual",
        "outputId": "ec3c5b1f-b3ce-4ea9-d54f-8a477f874929"
      },
      "source": [
        "test.shape"
      ],
      "id": "experienced-manual",
      "execution_count": null,
      "outputs": [
        {
          "output_type": "execute_result",
          "data": {
            "text/plain": [
              "(153164, 2)"
            ]
          },
          "metadata": {
            "tags": []
          },
          "execution_count": 15
        }
      ]
    },
    {
      "cell_type": "code",
      "metadata": {
        "execution": {
          "iopub.execute_input": "2021-07-03T17:35:45.681240Z",
          "iopub.status.busy": "2021-07-03T17:35:45.680514Z",
          "iopub.status.idle": "2021-07-03T17:35:48.039282Z",
          "shell.execute_reply": "2021-07-03T17:35:48.038789Z",
          "shell.execute_reply.started": "2021-07-03T17:19:08.917481Z"
        },
        "papermill": {
          "duration": 2.393442,
          "end_time": "2021-07-03T17:35:48.039413",
          "exception": false,
          "start_time": "2021-07-03T17:35:45.645971",
          "status": "completed"
        },
        "tags": [],
        "id": "relative-canal"
      },
      "source": [
        "import string\n",
        "train[\"comment_text\"]=train[\"comment_text\"].apply(lambda x: re.sub('[%s]' % re.escape(string.punctuation), '', x))"
      ],
      "id": "relative-canal",
      "execution_count": null,
      "outputs": []
    },
    {
      "cell_type": "code",
      "metadata": {
        "execution": {
          "iopub.execute_input": "2021-07-03T17:35:48.105478Z",
          "iopub.status.busy": "2021-07-03T17:35:48.104687Z",
          "iopub.status.idle": "2021-07-03T17:35:48.458717Z",
          "shell.execute_reply": "2021-07-03T17:35:48.459188Z",
          "shell.execute_reply.started": "2021-07-03T17:19:11.917059Z"
        },
        "papermill": {
          "duration": 0.389426,
          "end_time": "2021-07-03T17:35:48.459342",
          "exception": false,
          "start_time": "2021-07-03T17:35:48.069916",
          "status": "completed"
        },
        "tags": [],
        "id": "spanish-austin",
        "outputId": "2d4751a7-4a1a-4e1e-a6f6-603bd67a6f3d"
      },
      "source": [
        "def clean_text(text):\n",
        "    text = re.sub(r\"\\n\", \" \", text)\n",
        "    return text\n",
        "train[\"comment_text\"] = train[\"comment_text\"].apply(clean_text)\n",
        "train[\"comment_text\"]"
      ],
      "id": "spanish-austin",
      "execution_count": null,
      "outputs": [
        {
          "output_type": "execute_result",
          "data": {
            "text/plain": [
              "0         explanation why the edits made under my userna...\n",
              "1         daww he matches this background colour im seem...\n",
              "2         hey man im really not trying to edit war its j...\n",
              "3          more i cant make any real suggestions on impr...\n",
              "4         you sir are my hero any chance you remember wh...\n",
              "                                ...                        \n",
              "159566    and for the second time of asking when your vi...\n",
              "159567    you should be ashamed of yourself   that is a ...\n",
              "159568    spitzer   umm theres no actual article for pro...\n",
              "159569    and it looks like it was actually you who put ...\n",
              "159570     and  i really dont think you understand  i ca...\n",
              "Name: comment_text, Length: 159571, dtype: object"
            ]
          },
          "metadata": {
            "tags": []
          },
          "execution_count": 17
        }
      ]
    },
    {
      "cell_type": "code",
      "metadata": {
        "execution": {
          "iopub.execute_input": "2021-07-03T17:35:48.530864Z",
          "iopub.status.busy": "2021-07-03T17:35:48.530002Z",
          "iopub.status.idle": "2021-07-03T17:35:48.533532Z",
          "shell.execute_reply": "2021-07-03T17:35:48.533961Z",
          "shell.execute_reply.started": "2021-07-03T17:19:12.369770Z"
        },
        "papermill": {
          "duration": 0.045175,
          "end_time": "2021-07-03T17:35:48.534103",
          "exception": false,
          "start_time": "2021-07-03T17:35:48.488928",
          "status": "completed"
        },
        "tags": [],
        "id": "engaging-population",
        "outputId": "44157868-bf26-4512-f441-0f0127b2ca50"
      },
      "source": [
        "train"
      ],
      "id": "engaging-population",
      "execution_count": null,
      "outputs": [
        {
          "output_type": "execute_result",
          "data": {
            "text/html": [
              "<div>\n",
              "<style scoped>\n",
              "    .dataframe tbody tr th:only-of-type {\n",
              "        vertical-align: middle;\n",
              "    }\n",
              "\n",
              "    .dataframe tbody tr th {\n",
              "        vertical-align: top;\n",
              "    }\n",
              "\n",
              "    .dataframe thead th {\n",
              "        text-align: right;\n",
              "    }\n",
              "</style>\n",
              "<table border=\"1\" class=\"dataframe\">\n",
              "  <thead>\n",
              "    <tr style=\"text-align: right;\">\n",
              "      <th></th>\n",
              "      <th>comment_text</th>\n",
              "      <th>toxic</th>\n",
              "      <th>severe_toxic</th>\n",
              "      <th>obscene</th>\n",
              "      <th>threat</th>\n",
              "      <th>insult</th>\n",
              "      <th>identity_hate</th>\n",
              "    </tr>\n",
              "  </thead>\n",
              "  <tbody>\n",
              "    <tr>\n",
              "      <th>0</th>\n",
              "      <td>explanation why the edits made under my userna...</td>\n",
              "      <td>0</td>\n",
              "      <td>0</td>\n",
              "      <td>0</td>\n",
              "      <td>0</td>\n",
              "      <td>0</td>\n",
              "      <td>0</td>\n",
              "    </tr>\n",
              "    <tr>\n",
              "      <th>1</th>\n",
              "      <td>daww he matches this background colour im seem...</td>\n",
              "      <td>0</td>\n",
              "      <td>0</td>\n",
              "      <td>0</td>\n",
              "      <td>0</td>\n",
              "      <td>0</td>\n",
              "      <td>0</td>\n",
              "    </tr>\n",
              "    <tr>\n",
              "      <th>2</th>\n",
              "      <td>hey man im really not trying to edit war its j...</td>\n",
              "      <td>0</td>\n",
              "      <td>0</td>\n",
              "      <td>0</td>\n",
              "      <td>0</td>\n",
              "      <td>0</td>\n",
              "      <td>0</td>\n",
              "    </tr>\n",
              "    <tr>\n",
              "      <th>3</th>\n",
              "      <td>more i cant make any real suggestions on impr...</td>\n",
              "      <td>0</td>\n",
              "      <td>0</td>\n",
              "      <td>0</td>\n",
              "      <td>0</td>\n",
              "      <td>0</td>\n",
              "      <td>0</td>\n",
              "    </tr>\n",
              "    <tr>\n",
              "      <th>4</th>\n",
              "      <td>you sir are my hero any chance you remember wh...</td>\n",
              "      <td>0</td>\n",
              "      <td>0</td>\n",
              "      <td>0</td>\n",
              "      <td>0</td>\n",
              "      <td>0</td>\n",
              "      <td>0</td>\n",
              "    </tr>\n",
              "    <tr>\n",
              "      <th>...</th>\n",
              "      <td>...</td>\n",
              "      <td>...</td>\n",
              "      <td>...</td>\n",
              "      <td>...</td>\n",
              "      <td>...</td>\n",
              "      <td>...</td>\n",
              "      <td>...</td>\n",
              "    </tr>\n",
              "    <tr>\n",
              "      <th>159566</th>\n",
              "      <td>and for the second time of asking when your vi...</td>\n",
              "      <td>0</td>\n",
              "      <td>0</td>\n",
              "      <td>0</td>\n",
              "      <td>0</td>\n",
              "      <td>0</td>\n",
              "      <td>0</td>\n",
              "    </tr>\n",
              "    <tr>\n",
              "      <th>159567</th>\n",
              "      <td>you should be ashamed of yourself   that is a ...</td>\n",
              "      <td>0</td>\n",
              "      <td>0</td>\n",
              "      <td>0</td>\n",
              "      <td>0</td>\n",
              "      <td>0</td>\n",
              "      <td>0</td>\n",
              "    </tr>\n",
              "    <tr>\n",
              "      <th>159568</th>\n",
              "      <td>spitzer   umm theres no actual article for pro...</td>\n",
              "      <td>0</td>\n",
              "      <td>0</td>\n",
              "      <td>0</td>\n",
              "      <td>0</td>\n",
              "      <td>0</td>\n",
              "      <td>0</td>\n",
              "    </tr>\n",
              "    <tr>\n",
              "      <th>159569</th>\n",
              "      <td>and it looks like it was actually you who put ...</td>\n",
              "      <td>0</td>\n",
              "      <td>0</td>\n",
              "      <td>0</td>\n",
              "      <td>0</td>\n",
              "      <td>0</td>\n",
              "      <td>0</td>\n",
              "    </tr>\n",
              "    <tr>\n",
              "      <th>159570</th>\n",
              "      <td>and  i really dont think you understand  i ca...</td>\n",
              "      <td>0</td>\n",
              "      <td>0</td>\n",
              "      <td>0</td>\n",
              "      <td>0</td>\n",
              "      <td>0</td>\n",
              "      <td>0</td>\n",
              "    </tr>\n",
              "  </tbody>\n",
              "</table>\n",
              "<p>159571 rows × 7 columns</p>\n",
              "</div>"
            ],
            "text/plain": [
              "                                             comment_text  toxic  \\\n",
              "0       explanation why the edits made under my userna...      0   \n",
              "1       daww he matches this background colour im seem...      0   \n",
              "2       hey man im really not trying to edit war its j...      0   \n",
              "3        more i cant make any real suggestions on impr...      0   \n",
              "4       you sir are my hero any chance you remember wh...      0   \n",
              "...                                                   ...    ...   \n",
              "159566  and for the second time of asking when your vi...      0   \n",
              "159567  you should be ashamed of yourself   that is a ...      0   \n",
              "159568  spitzer   umm theres no actual article for pro...      0   \n",
              "159569  and it looks like it was actually you who put ...      0   \n",
              "159570   and  i really dont think you understand  i ca...      0   \n",
              "\n",
              "        severe_toxic  obscene  threat  insult  identity_hate  \n",
              "0                  0        0       0       0              0  \n",
              "1                  0        0       0       0              0  \n",
              "2                  0        0       0       0              0  \n",
              "3                  0        0       0       0              0  \n",
              "4                  0        0       0       0              0  \n",
              "...              ...      ...     ...     ...            ...  \n",
              "159566             0        0       0       0              0  \n",
              "159567             0        0       0       0              0  \n",
              "159568             0        0       0       0              0  \n",
              "159569             0        0       0       0              0  \n",
              "159570             0        0       0       0              0  \n",
              "\n",
              "[159571 rows x 7 columns]"
            ]
          },
          "metadata": {
            "tags": []
          },
          "execution_count": 18
        }
      ]
    },
    {
      "cell_type": "code",
      "metadata": {
        "execution": {
          "iopub.execute_input": "2021-07-03T17:35:48.596930Z",
          "iopub.status.busy": "2021-07-03T17:35:48.596358Z",
          "iopub.status.idle": "2021-07-03T17:35:51.377323Z",
          "shell.execute_reply": "2021-07-03T17:35:51.376819Z",
          "shell.execute_reply.started": "2021-07-03T17:19:12.389373Z"
        },
        "papermill": {
          "duration": 2.813579,
          "end_time": "2021-07-03T17:35:51.377465",
          "exception": false,
          "start_time": "2021-07-03T17:35:48.563886",
          "status": "completed"
        },
        "tags": [],
        "id": "missing-majority"
      },
      "source": [
        "train.to_csv('train.csv',index=False)"
      ],
      "id": "missing-majority",
      "execution_count": null,
      "outputs": []
    },
    {
      "cell_type": "code",
      "metadata": {
        "execution": {
          "iopub.execute_input": "2021-07-03T17:35:51.447290Z",
          "iopub.status.busy": "2021-07-03T17:35:51.446448Z",
          "iopub.status.idle": "2021-07-03T17:35:51.449635Z",
          "shell.execute_reply": "2021-07-03T17:35:51.450009Z",
          "shell.execute_reply.started": "2021-07-03T17:19:15.274829Z"
        },
        "papermill": {
          "duration": 0.042206,
          "end_time": "2021-07-03T17:35:51.450145",
          "exception": false,
          "start_time": "2021-07-03T17:35:51.407939",
          "status": "completed"
        },
        "tags": [],
        "id": "sapphire-karaoke",
        "outputId": "97c97ec3-2e54-47ed-973b-0de5ab1971bb"
      },
      "source": [
        "train.head()"
      ],
      "id": "sapphire-karaoke",
      "execution_count": null,
      "outputs": [
        {
          "output_type": "execute_result",
          "data": {
            "text/html": [
              "<div>\n",
              "<style scoped>\n",
              "    .dataframe tbody tr th:only-of-type {\n",
              "        vertical-align: middle;\n",
              "    }\n",
              "\n",
              "    .dataframe tbody tr th {\n",
              "        vertical-align: top;\n",
              "    }\n",
              "\n",
              "    .dataframe thead th {\n",
              "        text-align: right;\n",
              "    }\n",
              "</style>\n",
              "<table border=\"1\" class=\"dataframe\">\n",
              "  <thead>\n",
              "    <tr style=\"text-align: right;\">\n",
              "      <th></th>\n",
              "      <th>comment_text</th>\n",
              "      <th>toxic</th>\n",
              "      <th>severe_toxic</th>\n",
              "      <th>obscene</th>\n",
              "      <th>threat</th>\n",
              "      <th>insult</th>\n",
              "      <th>identity_hate</th>\n",
              "    </tr>\n",
              "  </thead>\n",
              "  <tbody>\n",
              "    <tr>\n",
              "      <th>0</th>\n",
              "      <td>explanation why the edits made under my userna...</td>\n",
              "      <td>0</td>\n",
              "      <td>0</td>\n",
              "      <td>0</td>\n",
              "      <td>0</td>\n",
              "      <td>0</td>\n",
              "      <td>0</td>\n",
              "    </tr>\n",
              "    <tr>\n",
              "      <th>1</th>\n",
              "      <td>daww he matches this background colour im seem...</td>\n",
              "      <td>0</td>\n",
              "      <td>0</td>\n",
              "      <td>0</td>\n",
              "      <td>0</td>\n",
              "      <td>0</td>\n",
              "      <td>0</td>\n",
              "    </tr>\n",
              "    <tr>\n",
              "      <th>2</th>\n",
              "      <td>hey man im really not trying to edit war its j...</td>\n",
              "      <td>0</td>\n",
              "      <td>0</td>\n",
              "      <td>0</td>\n",
              "      <td>0</td>\n",
              "      <td>0</td>\n",
              "      <td>0</td>\n",
              "    </tr>\n",
              "    <tr>\n",
              "      <th>3</th>\n",
              "      <td>more i cant make any real suggestions on impr...</td>\n",
              "      <td>0</td>\n",
              "      <td>0</td>\n",
              "      <td>0</td>\n",
              "      <td>0</td>\n",
              "      <td>0</td>\n",
              "      <td>0</td>\n",
              "    </tr>\n",
              "    <tr>\n",
              "      <th>4</th>\n",
              "      <td>you sir are my hero any chance you remember wh...</td>\n",
              "      <td>0</td>\n",
              "      <td>0</td>\n",
              "      <td>0</td>\n",
              "      <td>0</td>\n",
              "      <td>0</td>\n",
              "      <td>0</td>\n",
              "    </tr>\n",
              "  </tbody>\n",
              "</table>\n",
              "</div>"
            ],
            "text/plain": [
              "                                        comment_text  toxic  severe_toxic  \\\n",
              "0  explanation why the edits made under my userna...      0             0   \n",
              "1  daww he matches this background colour im seem...      0             0   \n",
              "2  hey man im really not trying to edit war its j...      0             0   \n",
              "3   more i cant make any real suggestions on impr...      0             0   \n",
              "4  you sir are my hero any chance you remember wh...      0             0   \n",
              "\n",
              "   obscene  threat  insult  identity_hate  \n",
              "0        0       0       0              0  \n",
              "1        0       0       0              0  \n",
              "2        0       0       0              0  \n",
              "3        0       0       0              0  \n",
              "4        0       0       0              0  "
            ]
          },
          "metadata": {
            "tags": []
          },
          "execution_count": 20
        }
      ]
    },
    {
      "cell_type": "code",
      "metadata": {
        "execution": {
          "iopub.execute_input": "2021-07-03T17:35:51.514316Z",
          "iopub.status.busy": "2021-07-03T17:35:51.513664Z",
          "iopub.status.idle": "2021-07-03T17:35:51.515955Z",
          "shell.execute_reply": "2021-07-03T17:35:51.516377Z",
          "shell.execute_reply.started": "2021-07-03T17:19:15.290561Z"
        },
        "papermill": {
          "duration": 0.035855,
          "end_time": "2021-07-03T17:35:51.516498",
          "exception": false,
          "start_time": "2021-07-03T17:35:51.480643",
          "status": "completed"
        },
        "tags": [],
        "id": "advisory-listening"
      },
      "source": [
        "X = train.comment_text"
      ],
      "id": "advisory-listening",
      "execution_count": null,
      "outputs": []
    },
    {
      "cell_type": "code",
      "metadata": {
        "execution": {
          "iopub.execute_input": "2021-07-03T17:35:51.580946Z",
          "iopub.status.busy": "2021-07-03T17:35:51.580460Z",
          "iopub.status.idle": "2021-07-03T17:35:51.706272Z",
          "shell.execute_reply": "2021-07-03T17:35:51.705763Z",
          "shell.execute_reply.started": "2021-07-03T17:19:15.303282Z"
        },
        "papermill": {
          "duration": 0.159008,
          "end_time": "2021-07-03T17:35:51.706398",
          "exception": false,
          "start_time": "2021-07-03T17:35:51.547390",
          "status": "completed"
        },
        "tags": [],
        "id": "vocal-opportunity",
        "outputId": "7579c06f-82bd-4e4f-d140-afcf8b97ee3b"
      },
      "source": [
        "from sklearn.feature_extraction.text import TfidfVectorizer\n",
        "vect = TfidfVectorizer(max_features=5000,stop_words='english')\n",
        "vect"
      ],
      "id": "vocal-opportunity",
      "execution_count": null,
      "outputs": [
        {
          "output_type": "execute_result",
          "data": {
            "text/plain": [
              "TfidfVectorizer(max_features=5000, stop_words='english')"
            ]
          },
          "metadata": {
            "tags": []
          },
          "execution_count": 22
        }
      ]
    },
    {
      "cell_type": "code",
      "metadata": {
        "execution": {
          "iopub.execute_input": "2021-07-03T17:35:51.772956Z",
          "iopub.status.busy": "2021-07-03T17:35:51.772187Z",
          "iopub.status.idle": "2021-07-03T17:35:51.775304Z",
          "shell.execute_reply": "2021-07-03T17:35:51.775700Z",
          "shell.execute_reply.started": "2021-07-03T17:21:17.461768Z"
        },
        "papermill": {
          "duration": 0.038271,
          "end_time": "2021-07-03T17:35:51.775831",
          "exception": false,
          "start_time": "2021-07-03T17:35:51.737560",
          "status": "completed"
        },
        "tags": [],
        "id": "thirty-antique",
        "outputId": "805cd890-486f-41f0-b468-e2ed897859b1"
      },
      "source": [
        "type(X)"
      ],
      "id": "thirty-antique",
      "execution_count": null,
      "outputs": [
        {
          "output_type": "execute_result",
          "data": {
            "text/plain": [
              "pandas.core.series.Series"
            ]
          },
          "metadata": {
            "tags": []
          },
          "execution_count": 23
        }
      ]
    },
    {
      "cell_type": "code",
      "metadata": {
        "execution": {
          "iopub.execute_input": "2021-07-03T17:35:51.841457Z",
          "iopub.status.busy": "2021-07-03T17:35:51.840765Z",
          "iopub.status.idle": "2021-07-03T17:35:51.844146Z",
          "shell.execute_reply": "2021-07-03T17:35:51.843718Z",
          "shell.execute_reply.started": "2021-07-03T17:26:52.008309Z"
        },
        "papermill": {
          "duration": 0.037546,
          "end_time": "2021-07-03T17:35:51.844257",
          "exception": false,
          "start_time": "2021-07-03T17:35:51.806711",
          "status": "completed"
        },
        "tags": [],
        "id": "massive-bulgarian",
        "outputId": "efc195b4-9719-4230-c054-9cf0ae401b0c"
      },
      "source": [
        "test.shape"
      ],
      "id": "massive-bulgarian",
      "execution_count": null,
      "outputs": [
        {
          "output_type": "execute_result",
          "data": {
            "text/plain": [
              "(153164, 2)"
            ]
          },
          "metadata": {
            "tags": []
          },
          "execution_count": 24
        }
      ]
    },
    {
      "cell_type": "code",
      "metadata": {
        "execution": {
          "iopub.execute_input": "2021-07-03T17:35:51.910995Z",
          "iopub.status.busy": "2021-07-03T17:35:51.910287Z",
          "iopub.status.idle": "2021-07-03T17:35:51.912703Z",
          "shell.execute_reply": "2021-07-03T17:35:51.913150Z",
          "shell.execute_reply.started": "2021-07-03T17:28:39.413346Z"
        },
        "papermill": {
          "duration": 0.037688,
          "end_time": "2021-07-03T17:35:51.913271",
          "exception": false,
          "start_time": "2021-07-03T17:35:51.875583",
          "status": "completed"
        },
        "tags": [],
        "id": "placed-river"
      },
      "source": [
        "test_df = test.comment_text"
      ],
      "id": "placed-river",
      "execution_count": null,
      "outputs": []
    },
    {
      "cell_type": "code",
      "metadata": {
        "execution": {
          "iopub.execute_input": "2021-07-03T17:35:52.048890Z",
          "iopub.status.busy": "2021-07-03T17:35:51.978852Z",
          "iopub.status.idle": "2021-07-03T17:36:10.101907Z",
          "shell.execute_reply": "2021-07-03T17:36:10.100944Z",
          "shell.execute_reply.started": "2021-07-03T17:28:46.484176Z"
        },
        "papermill": {
          "duration": 18.157758,
          "end_time": "2021-07-03T17:36:10.102075",
          "exception": false,
          "start_time": "2021-07-03T17:35:51.944317",
          "status": "completed"
        },
        "tags": [],
        "id": "given-nicaragua"
      },
      "source": [
        "X_train = vect.fit_transform(X.astype('U'))\n",
        "X_test = vect.transform(test_df.astype('U'))"
      ],
      "id": "given-nicaragua",
      "execution_count": null,
      "outputs": []
    },
    {
      "cell_type": "code",
      "metadata": {
        "execution": {
          "iopub.execute_input": "2021-07-03T17:36:10.169985Z",
          "iopub.status.busy": "2021-07-03T17:36:10.169343Z",
          "iopub.status.idle": "2021-07-03T17:36:10.172519Z",
          "shell.execute_reply": "2021-07-03T17:36:10.172921Z",
          "shell.execute_reply.started": "2021-07-03T17:29:08.404309Z"
        },
        "papermill": {
          "duration": 0.039582,
          "end_time": "2021-07-03T17:36:10.173065",
          "exception": false,
          "start_time": "2021-07-03T17:36:10.133483",
          "status": "completed"
        },
        "tags": [],
        "id": "brazilian-canyon",
        "outputId": "c00c8e11-9703-4a1c-eed2-242cf7cb68bc"
      },
      "source": [
        "X_test"
      ],
      "id": "brazilian-canyon",
      "execution_count": null,
      "outputs": [
        {
          "output_type": "execute_result",
          "data": {
            "text/plain": [
              "<153164x5000 sparse matrix of type '<class 'numpy.float64'>'\n",
              "\twith 2582096 stored elements in Compressed Sparse Row format>"
            ]
          },
          "metadata": {
            "tags": []
          },
          "execution_count": 27
        }
      ]
    },
    {
      "cell_type": "code",
      "metadata": {
        "execution": {
          "iopub.execute_input": "2021-07-03T17:36:10.239557Z",
          "iopub.status.busy": "2021-07-03T17:36:10.238823Z",
          "iopub.status.idle": "2021-07-03T17:36:10.243262Z",
          "shell.execute_reply": "2021-07-03T17:36:10.242810Z",
          "shell.execute_reply.started": "2021-07-03T17:29:08.415669Z"
        },
        "papermill": {
          "duration": 0.039104,
          "end_time": "2021-07-03T17:36:10.243378",
          "exception": false,
          "start_time": "2021-07-03T17:36:10.204274",
          "status": "completed"
        },
        "tags": [],
        "id": "reliable-comedy",
        "outputId": "c065586e-5dc8-450e-a4f6-76352b10d33e"
      },
      "source": [
        "X_train"
      ],
      "id": "reliable-comedy",
      "execution_count": null,
      "outputs": [
        {
          "output_type": "execute_result",
          "data": {
            "text/plain": [
              "<159571x5000 sparse matrix of type '<class 'numpy.float64'>'\n",
              "\twith 3074764 stored elements in Compressed Sparse Row format>"
            ]
          },
          "metadata": {
            "tags": []
          },
          "execution_count": 28
        }
      ]
    },
    {
      "cell_type": "code",
      "metadata": {
        "execution": {
          "iopub.execute_input": "2021-07-03T17:36:10.309445Z",
          "iopub.status.busy": "2021-07-03T17:36:10.308815Z",
          "iopub.status.idle": "2021-07-03T17:36:10.311814Z",
          "shell.execute_reply": "2021-07-03T17:36:10.312196Z",
          "shell.execute_reply.started": "2021-07-03T17:21:45.455447Z"
        },
        "papermill": {
          "duration": 0.037338,
          "end_time": "2021-07-03T17:36:10.312326",
          "exception": false,
          "start_time": "2021-07-03T17:36:10.274988",
          "status": "completed"
        },
        "tags": [],
        "id": "miniature-production"
      },
      "source": [
        "import sklearn"
      ],
      "id": "miniature-production",
      "execution_count": null,
      "outputs": []
    },
    {
      "cell_type": "code",
      "metadata": {
        "execution": {
          "iopub.execute_input": "2021-07-03T17:36:10.378699Z",
          "iopub.status.busy": "2021-07-03T17:36:10.378026Z",
          "iopub.status.idle": "2021-07-03T17:36:10.506241Z",
          "shell.execute_reply": "2021-07-03T17:36:10.505709Z",
          "shell.execute_reply.started": "2021-07-03T17:29:17.403999Z"
        },
        "papermill": {
          "duration": 0.162578,
          "end_time": "2021-07-03T17:36:10.506357",
          "exception": false,
          "start_time": "2021-07-03T17:36:10.343779",
          "status": "completed"
        },
        "tags": [],
        "id": "boxed-module"
      },
      "source": [
        "\n",
        "from sklearn.linear_model import LogisticRegression\n",
        "from sklearn.metrics import accuracy_score\n",
        "logreg = LogisticRegression(C=24.0)"
      ],
      "id": "boxed-module",
      "execution_count": null,
      "outputs": []
    },
    {
      "cell_type": "code",
      "metadata": {
        "execution": {
          "iopub.execute_input": "2021-07-03T17:36:10.573511Z",
          "iopub.status.busy": "2021-07-03T17:36:10.572793Z",
          "iopub.status.idle": "2021-07-03T17:36:10.712375Z",
          "shell.execute_reply": "2021-07-03T17:36:10.712825Z",
          "shell.execute_reply.started": "2021-07-03T17:29:19.840849Z"
        },
        "papermill": {
          "duration": 0.174864,
          "end_time": "2021-07-03T17:36:10.712973",
          "exception": false,
          "start_time": "2021-07-03T17:36:10.538109",
          "status": "completed"
        },
        "tags": [],
        "id": "pressing-effect",
        "outputId": "f800f323-f679-46f8-c6ea-3a401b0e0530"
      },
      "source": [
        "submission_binary1 = pd.read_csv('./sample_submission.csv')\n",
        "submission_binary1.shape"
      ],
      "id": "pressing-effect",
      "execution_count": null,
      "outputs": [
        {
          "output_type": "execute_result",
          "data": {
            "text/plain": [
              "(153164, 7)"
            ]
          },
          "metadata": {
            "tags": []
          },
          "execution_count": 31
        }
      ]
    },
    {
      "cell_type": "code",
      "metadata": {
        "papermill": {
          "duration": 0.032108,
          "end_time": "2021-07-03T17:36:10.776890",
          "exception": false,
          "start_time": "2021-07-03T17:36:10.744782",
          "status": "completed"
        },
        "tags": [],
        "id": "tender-masters"
      },
      "source": [
        ""
      ],
      "id": "tender-masters",
      "execution_count": null,
      "outputs": []
    },
    {
      "cell_type": "code",
      "metadata": {
        "execution": {
          "iopub.execute_input": "2021-07-03T17:36:10.846448Z",
          "iopub.status.busy": "2021-07-03T17:36:10.845533Z",
          "iopub.status.idle": "2021-07-03T17:36:24.638826Z",
          "shell.execute_reply": "2021-07-03T17:36:24.639258Z",
          "shell.execute_reply.started": "2021-07-03T17:29:29.693727Z"
        },
        "papermill": {
          "duration": 13.830735,
          "end_time": "2021-07-03T17:36:24.639401",
          "exception": false,
          "start_time": "2021-07-03T17:36:10.808666",
          "status": "completed"
        },
        "tags": [],
        "id": "entertaining-cheese",
        "outputId": "1c24d051-c18a-4215-b13e-0805b300638d"
      },
      "source": [
        "\n",
        "for label in cols_target:\n",
        "    print('... Processing {}'.format(label))\n",
        "    y = train[label]\n",
        "    # train the model using X_dtm & y\n",
        "    logreg.fit(X_train, y)\n",
        "    # compute the training accuracy\n",
        "    y_pred_X = logreg.predict(X_train)\n",
        "    print('Training accuracy is {}'.format(accuracy_score(y, y_pred_X)))\n",
        "    # compute the predicted probabilities for X_test_dtm\n",
        "    test_y_prob = logreg.predict_proba(X_test)[:,1]\n",
        "    print(test_y_prob.shape)\n",
        "    submission_binary1[label] = test_y_prob"
      ],
      "id": "entertaining-cheese",
      "execution_count": null,
      "outputs": [
        {
          "output_type": "stream",
          "text": [
            "... Processing obscene\n"
          ],
          "name": "stdout"
        },
        {
          "output_type": "stream",
          "text": [
            "/opt/conda/lib/python3.7/site-packages/sklearn/linear_model/_logistic.py:765: ConvergenceWarning: lbfgs failed to converge (status=1):\n",
            "STOP: TOTAL NO. of ITERATIONS REACHED LIMIT.\n",
            "\n",
            "Increase the number of iterations (max_iter) or scale the data as shown in:\n",
            "    https://scikit-learn.org/stable/modules/preprocessing.html\n",
            "Please also refer to the documentation for alternative solver options:\n",
            "    https://scikit-learn.org/stable/modules/linear_model.html#logistic-regression\n",
            "  extra_warning_msg=_LOGISTIC_SOLVER_CONVERGENCE_MSG)\n"
          ],
          "name": "stderr"
        },
        {
          "output_type": "stream",
          "text": [
            "Training accuracy is 0.9835621760846269\n",
            "(153164,)\n",
            "... Processing insult\n"
          ],
          "name": "stdout"
        },
        {
          "output_type": "stream",
          "text": [
            "/opt/conda/lib/python3.7/site-packages/sklearn/linear_model/_logistic.py:765: ConvergenceWarning: lbfgs failed to converge (status=1):\n",
            "STOP: TOTAL NO. of ITERATIONS REACHED LIMIT.\n",
            "\n",
            "Increase the number of iterations (max_iter) or scale the data as shown in:\n",
            "    https://scikit-learn.org/stable/modules/preprocessing.html\n",
            "Please also refer to the documentation for alternative solver options:\n",
            "    https://scikit-learn.org/stable/modules/linear_model.html#logistic-regression\n",
            "  extra_warning_msg=_LOGISTIC_SOLVER_CONVERGENCE_MSG)\n"
          ],
          "name": "stderr"
        },
        {
          "output_type": "stream",
          "text": [
            "Training accuracy is 0.9760232122378126\n",
            "(153164,)\n",
            "... Processing toxic\n"
          ],
          "name": "stdout"
        },
        {
          "output_type": "stream",
          "text": [
            "/opt/conda/lib/python3.7/site-packages/sklearn/linear_model/_logistic.py:765: ConvergenceWarning: lbfgs failed to converge (status=1):\n",
            "STOP: TOTAL NO. of ITERATIONS REACHED LIMIT.\n",
            "\n",
            "Increase the number of iterations (max_iter) or scale the data as shown in:\n",
            "    https://scikit-learn.org/stable/modules/preprocessing.html\n",
            "Please also refer to the documentation for alternative solver options:\n",
            "    https://scikit-learn.org/stable/modules/linear_model.html#logistic-regression\n",
            "  extra_warning_msg=_LOGISTIC_SOLVER_CONVERGENCE_MSG)\n"
          ],
          "name": "stderr"
        },
        {
          "output_type": "stream",
          "text": [
            "Training accuracy is 0.9634896065074481\n",
            "(153164,)\n",
            "... Processing severe_toxic\n"
          ],
          "name": "stdout"
        },
        {
          "output_type": "stream",
          "text": [
            "/opt/conda/lib/python3.7/site-packages/sklearn/linear_model/_logistic.py:765: ConvergenceWarning: lbfgs failed to converge (status=1):\n",
            "STOP: TOTAL NO. of ITERATIONS REACHED LIMIT.\n",
            "\n",
            "Increase the number of iterations (max_iter) or scale the data as shown in:\n",
            "    https://scikit-learn.org/stable/modules/preprocessing.html\n",
            "Please also refer to the documentation for alternative solver options:\n",
            "    https://scikit-learn.org/stable/modules/linear_model.html#logistic-regression\n",
            "  extra_warning_msg=_LOGISTIC_SOLVER_CONVERGENCE_MSG)\n"
          ],
          "name": "stderr"
        },
        {
          "output_type": "stream",
          "text": [
            "Training accuracy is 0.9923795677159384\n",
            "(153164,)\n",
            "... Processing identity_hate\n"
          ],
          "name": "stdout"
        },
        {
          "output_type": "stream",
          "text": [
            "/opt/conda/lib/python3.7/site-packages/sklearn/linear_model/_logistic.py:765: ConvergenceWarning: lbfgs failed to converge (status=1):\n",
            "STOP: TOTAL NO. of ITERATIONS REACHED LIMIT.\n",
            "\n",
            "Increase the number of iterations (max_iter) or scale the data as shown in:\n",
            "    https://scikit-learn.org/stable/modules/preprocessing.html\n",
            "Please also refer to the documentation for alternative solver options:\n",
            "    https://scikit-learn.org/stable/modules/linear_model.html#logistic-regression\n",
            "  extra_warning_msg=_LOGISTIC_SOLVER_CONVERGENCE_MSG)\n"
          ],
          "name": "stderr"
        },
        {
          "output_type": "stream",
          "text": [
            "Training accuracy is 0.9944037450413923\n",
            "(153164,)\n",
            "... Processing threat\n",
            "Training accuracy is 0.9985085009180866\n",
            "(153164,)\n"
          ],
          "name": "stdout"
        },
        {
          "output_type": "stream",
          "text": [
            "/opt/conda/lib/python3.7/site-packages/sklearn/linear_model/_logistic.py:765: ConvergenceWarning: lbfgs failed to converge (status=1):\n",
            "STOP: TOTAL NO. of ITERATIONS REACHED LIMIT.\n",
            "\n",
            "Increase the number of iterations (max_iter) or scale the data as shown in:\n",
            "    https://scikit-learn.org/stable/modules/preprocessing.html\n",
            "Please also refer to the documentation for alternative solver options:\n",
            "    https://scikit-learn.org/stable/modules/linear_model.html#logistic-regression\n",
            "  extra_warning_msg=_LOGISTIC_SOLVER_CONVERGENCE_MSG)\n"
          ],
          "name": "stderr"
        }
      ]
    },
    {
      "cell_type": "code",
      "metadata": {
        "execution": {
          "iopub.execute_input": "2021-07-03T17:36:24.713644Z",
          "iopub.status.busy": "2021-07-03T17:36:24.713152Z",
          "iopub.status.idle": "2021-07-03T17:36:27.016874Z",
          "shell.execute_reply": "2021-07-03T17:36:27.016389Z",
          "shell.execute_reply.started": "2021-07-03T17:34:45.333509Z"
        },
        "papermill": {
          "duration": 2.342205,
          "end_time": "2021-07-03T17:36:27.016993",
          "exception": false,
          "start_time": "2021-07-03T17:36:24.674788",
          "status": "completed"
        },
        "tags": [],
        "id": "confirmed-civilization"
      },
      "source": [
        "submission_binary1.to_csv('submission.csv',index=False)"
      ],
      "id": "confirmed-civilization",
      "execution_count": null,
      "outputs": []
    },
    {
      "cell_type": "code",
      "metadata": {
        "papermill": {
          "duration": 0.03581,
          "end_time": "2021-07-03T17:36:27.089474",
          "exception": false,
          "start_time": "2021-07-03T17:36:27.053664",
          "status": "completed"
        },
        "tags": [],
        "id": "impressive-gallery"
      },
      "source": [
        ""
      ],
      "id": "impressive-gallery",
      "execution_count": null,
      "outputs": []
    },
    {
      "cell_type": "code",
      "metadata": {
        "papermill": {
          "duration": 0.035218,
          "end_time": "2021-07-03T17:36:27.160218",
          "exception": false,
          "start_time": "2021-07-03T17:36:27.125000",
          "status": "completed"
        },
        "tags": [],
        "id": "perceived-tiffany"
      },
      "source": [
        ""
      ],
      "id": "perceived-tiffany",
      "execution_count": null,
      "outputs": []
    }
  ]
}